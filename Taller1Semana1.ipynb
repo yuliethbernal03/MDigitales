{
  "nbformat": 4,
  "nbformat_minor": 0,
  "metadata": {
    "colab": {
      "name": "Taller1Semana1.ipynb",
      "provenance": [],
      "authorship_tag": "ABX9TyOfZOX7cupgx8P8dy+TzEAl",
      "include_colab_link": true
    },
    "kernelspec": {
      "name": "python3",
      "display_name": "Python 3"
    },
    "language_info": {
      "name": "python"
    }
  },
  "cells": [
    {
      "cell_type": "markdown",
      "metadata": {
        "id": "view-in-github",
        "colab_type": "text"
      },
      "source": [
        "<a href=\"https://colab.research.google.com/github/yuliethbernal03/MDigitales/blob/main/Taller1Semana1.ipynb\" target=\"_parent\"><img src=\"https://colab.research.google.com/assets/colab-badge.svg\" alt=\"Open In Colab\"/></a>"
      ]
    },
    {
      "cell_type": "markdown",
      "metadata": {
        "id": "cfdJQUzbUIXx"
      },
      "source": [
        "El bootcamp comenzo el 26 de julio de 2021. se les explico a las estudiantes que se les evaluaria de la siguienrte forma.\n",
        "\n",
        "1. Tareas 10%\n",
        "2. Talleres 25%\n",
        "3. Asistencia 5%\n",
        "4. Participacion 15%\n",
        "5. Proyecto 45%\n",
        "\n",
        "Teniendo en cuenta las ponderaciones de calificacion del bootcamp las estudiantes deciden desarrollar un programa que les permita saber cuanto tendria que sacar en el proyecto para tener una definitiva de 3.7 minimo en el curso. si las notas que llevan hasta el momento son las siguientes\n",
        "\n",
        "1. Tareas 4.5\n",
        "2. Talleres 4.0\n",
        "3. Asistencia 5.0\n",
        "4. Participacion 4.0\n",
        "\n",
        "¿cuanto tendria que sacra en el proyecto?"
      ]
    }
  ]
}