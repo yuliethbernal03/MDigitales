{
  "nbformat": 4,
  "nbformat_minor": 0,
  "metadata": {
    "colab": {
      "name": "Taller1Semana1.ipynb",
      "provenance": [],
      "collapsed_sections": [],
      "authorship_tag": "ABX9TyNu4Tu13GSeyegW9T5X9pGf",
      "include_colab_link": true
    },
    "kernelspec": {
      "name": "python3",
      "display_name": "Python 3"
    },
    "language_info": {
      "name": "python"
    }
  },
  "cells": [
    {
      "cell_type": "markdown",
      "metadata": {
        "id": "view-in-github",
        "colab_type": "text"
      },
      "source": [
        "<a href=\"https://colab.research.google.com/github/yuliethbernal03/MDigitales/blob/main/Taller1Semana1.ipynb\" target=\"_parent\"><img src=\"https://colab.research.google.com/assets/colab-badge.svg\" alt=\"Open In Colab\"/></a>"
      ]
    },
    {
      "cell_type": "markdown",
      "metadata": {
        "id": "cfdJQUzbUIXx"
      },
      "source": [
        "El bootcamp comenzo el 26 de julio de 2021. se les explico a las estudiantes que se les evaluaria de la siguienrte forma.\n",
        "\n",
        "1. Tareas 10%\n",
        "2. Talleres 25%\n",
        "3. Asistencia 5%\n",
        "4. Participacion 15%\n",
        "5. Proyecto 45%\n",
        "\n",
        "Teniendo en cuenta las ponderaciones de calificacion del bootcamp las estudiantes deciden desarrollar un programa que les permita saber cuanto tendria que sacar en el proyecto para tener una definitiva de 3.7 minimo en el curso. si las notas que llevan hasta el momento son las siguientes\n",
        "\n",
        "1. Tareas 4.5\n",
        "2. Talleres 4.0\n",
        "3. Asistencia 5.0\n",
        "4. Participacion 4.0\n",
        "\n",
        "¿cuanto tendria que sacra en el proyecto?"
      ]
    },
    {
      "cell_type": "code",
      "metadata": {
        "colab": {
          "base_uri": "https://localhost:8080/"
        },
        "id": "W8n1FhRqw7oL",
        "outputId": "b02ee9e0-bb47-42f6-c59e-c0bd57253891"
      },
      "source": [
        "tareas = 4.5\n",
        "talleres = 4.0\n",
        "asistencia = 5.0\n",
        "participacion = 4.0\n",
        "nminima = 3.7\n",
        "\n",
        "minima = 0.10 * tareas + 0.25 * talleres + 0.5 * asistencia + 0.15 * participacion\n",
        "nminima = minima - nminima\n",
        "proyecto = nminima / minima\n",
        "print(\"La nota minima a sacar en el proyecto es: \",proyecto)"
      ],
      "execution_count": null,
      "outputs": [
        {
          "output_type": "stream",
          "text": [
            "La nota minima a sacar en el proyecto es:  0.18681318681318673\n"
          ],
          "name": "stdout"
        }
      ]
    },
    {
      "cell_type": "markdown",
      "metadata": {
        "id": "Vqc2x4UQ6GLN"
      },
      "source": [
        "La empresa VIVAFLY tiene como eslogan: \"Satisfacción y plenitud en un solo viaje\". Por lo cual, uno de los medios que utiliza VIVAFLY para mantener la satisfacción al cliente, es realizar rifas a lo largo del año para fomentar mayor unión y entendimiento. Para el mes de septiembre, por motivos de celebración de Amor y Amistad, la empresa decide sortear los siguientes viajes a los 5 clientes con más antigüedad:\n",
        "\n",
        "1. Viaje todo incluído para dos personas a San Andrés(Premio 1)\n",
        "2. un pasadía a los termales de San Vicente incluyendo almuerzo (Premio 2)\n",
        "3. Viaje todo incluido para dos personas a Santa Marta (Premio 3)\n",
        "4. Pasadía al desierto de Tatacoa (Sin incluír alimentación) (Premio 4)\n",
        "\n",
        "La empresa utilizará para el sorteo el método de balotera. A continuación se menciona el color ganador por premio:\n",
        "\n",
        "1. Rosado= Premio 1\n",
        "2. Verde=Premio 2\n",
        "3. Azul=Premio 3\n",
        "4. Gris=Premio 4\n",
        "5. Roja=No hay premio\n",
        "\n",
        "La probabilidad de sacar una balota\n",
        "\n",
        "1. rosada es del 15%\n",
        "2. verde 20%\n",
        "3. azul 5%\n",
        "4. gris 20%\n",
        "5. roja 40%.\n",
        "\n",
        "Adicionalmente, para las personas que SI obtengan premio, recibirán un bono en efectivo del porcentaje que represente la probabilidad de ganar con cada balota sobre un valor de 1.000.000 pesos. Sin embargo, se debe tener en cuenta que, Si al aplicar el porcentaje arroja un valor inferior a 120.000, no se les dará el bono en efectivo sino dos boletas de cine 4D para la película en estreno del mes incluyendo un solo combo de palomitas.Por otro lado, para la persona que saque balota roja obtendrá un premio de 120.000 pesos.\n",
        "\n",
        "Nota:\n",
        "\n",
        "El sorteo se realiza con el método de NO reemplazo. Es decir, la probabilidad de sacar cada una de las balotas es la misma para los 5 clientes. Porque a medida que vayan sacando las balotas ganadoras estás se regresan a la balotera y se mantendrá la misma cantidad de balotas.\n",
        "\n",
        "Teniendo en cuenta lo anterior.Se le pide a la analista que genere un código donde se pueda observar las respectivas premiaciones.\n",
        "\n",
        "las entradas deben ser las siguientes:\n",
        "\n",
        "* Nombre de la concursante\n",
        "* Color de balota\n",
        "\n",
        "Salida:\n",
        "* Premio\n",
        "\n",
        "Enunciado de salida: \"La empresa VIVAFLY se complace en anunciar que La participante ganó en nuestro sorteo de viajes de AMOR y AMISTAD\"\n",
        "\n",
        "Ejemplo: \"La empresa VIVAFLY se complace en anunciar que La participante ANA ganó un pasadía a los termales de San Vicente en nuestro sorteo de viajes de AMOR y AMISTAD\""
      ]
    },
    {
      "cell_type": "code",
      "metadata": {
        "id": "OQnmuJ0B4y19"
      },
      "source": [
        "\n",
        "premio1=\"Viaje todo incluído para dos personas a San Andrés\"\n",
        "premio2=\"Un pasadía a los termales de San Vicente incluyendo almuerzo\"\n",
        "premio3=\"Viaje todo incluido para dos personas a Santa Marta\"\n",
        "premio4=\"Pasadía al desierto de Tatacoa\"\n",
        "premio5=\"No hay premio\"\n",
        "\n",
        "adicional1 = (1000000 * 15) // 100\n",
        "adicional2 = (1000000 * 20) // 100\n",
        "adicional3 = (1000000 * 5) // 100\n",
        "adicional4 = (1000000 * 20) // 100\n",
        "\n",
        "concursante = input(\"Ingrese el nombre del concursante: \")\n",
        "Colorbalota = input(\"Ingrese el color de la balota: \")\n",
        "if (Colorbalota == \"Rosado\"):\n",
        "  print(\"La empresa VIVAFLY se complace en anunciar que el participante \",concursante,\" gano \",premio1, \"en nuestro sorteo de viajes de AMOR y AMISTAD\")\n",
        "  print(\"Mas \",adicional1,\" en efectivo.\")\n",
        "elif (Colorbalota == \"Verde\"):\n",
        "  print(\"La empresa VIVAFLY se complace en anunciar que el participante \",concursante,\" gano \",premio2, \"en nuestro sorteo de viajes de AMOR y AMISTAD\")\n",
        "  print(\"Mas \",adicional2,\" en efectivo.\")\n",
        "elif (Colorbalota == \"Azul\"):\n",
        "  print(\"La empresa VIVAFLY se complace en anunciar que el participante \",concursante,\" gano \",premio3, \"en nuestro sorteo de viajes de AMOR y AMISTAD\")\n",
        "  print(\"Mas \",adicional3,\" en efectivo.\")\n",
        "elif (Colorbalota == \"Gris\"):\n",
        "  print(\"La empresa VIVAFLY se complace en anunciar que el participante \",concursante,\" gano \",premio4, \"en nuestro sorteo de viajes de AMOR y AMISTAD\")\n",
        "  print(\"Mas \",adicional4,\" en efectivo.\")\n",
        "elif (Colorbalota == \"Rojo\"):\n",
        "  print(\"La empresa VIVAFLY se complace en anunciar que para el participante \",concursante, \" \" ,premio,\"en nuestro sorteo de viajes de AMOR y AMISTAD\")\n",
        "  print(\"dos boletas de cine 4D para la película en estreno del mes incluyendo un solo combo de palomitas.\")"
      ],
      "execution_count": null,
      "outputs": []
    },
    {
      "cell_type": "code",
      "metadata": {
        "id": "PMSq21UgTgFg"
      },
      "source": [
        "adicional1 = (1000000 * 15) // 100\n",
        "adicional2 = (1000000 * 20) // 100\n",
        "adicional3 = (1000000 * 5) // 100\n",
        "adicional4 = (1000000 * 20) // 100\n",
        "\n"
      ],
      "execution_count": 14,
      "outputs": []
    }
  ]
}