{
  "nbformat": 4,
  "nbformat_minor": 0,
  "metadata": {
    "colab": {
      "name": "Clase3.ipynb",
      "provenance": [],
      "authorship_tag": "ABX9TyPz/8G5PiOD0tGfG41o8uR7",
      "include_colab_link": true
    },
    "kernelspec": {
      "name": "python3",
      "display_name": "Python 3"
    },
    "language_info": {
      "name": "python"
    }
  },
  "cells": [
    {
      "cell_type": "markdown",
      "metadata": {
        "id": "view-in-github",
        "colab_type": "text"
      },
      "source": [
        "<a href=\"https://colab.research.google.com/github/yuliethbernal03/MDigitales/blob/main/Clase3.ipynb\" target=\"_parent\"><img src=\"https://colab.research.google.com/assets/colab-badge.svg\" alt=\"Open In Colab\"/></a>"
      ]
    },
    {
      "cell_type": "markdown",
      "metadata": {
        "id": "z06GlMd041ve"
      },
      "source": [
        "**Estructura de condicionales**\n",
        "\n",
        "---\n",
        "A l momento de construir una instruccion de tipo condicional se debera comprender que dichas instrucciones estan diseñadas para ayudar en la toma de decisiones:\n",
        "\n",
        "Ejemplo:\n",
        "**si **Pedro va a la tienda de la izquierda llegara mas rapido, **sino** se demorara mas.\n",
        "\n",
        "eXISTEN VARIOS TIPOS DE INSTRNES ALGUNOS PUEDEN SER SIMPLES Y OTROS MULTIPLES:\n",
        "SIN EMBARGO SOLO GENERAN DOS RESULTADOS.\n",
        "1. VERDAdero\n",
        "2. falso\n",
        "\n",
        "en python tales resultados serian True y False.\n",
        "\n",
        "\n"
      ]
    },
    {
      "cell_type": "markdown",
      "metadata": {
        "id": "7kWphDFg6jWL"
      },
      "source": [
        "para aplicar los condicionales que veremos a continuacion debemos recordar los comandos de operadores matematicos vistos la clase anterior.\n",
        "\n",
        "1. Igualdad (==)\n",
        "2. Diferencia (!=)\n",
        "3. menor que (<)\n",
        "4. mayor que (>)\n",
        "5. menor o igual que (<=)\n",
        "6. mayor o igual que (>=)"
      ]
    },
    {
      "cell_type": "markdown",
      "metadata": {
        "id": "NKrE_ygu7PdF"
      },
      "source": [
        "En condicionales multiplis, podemos enlazar los operadores logicos \n",
        "1. y (and)\n",
        "2. o (or)\n",
        "3. no (not)\n",
        "\n",
        "**Ejemplos: **\n",
        "3 == 8 and 8 > 12 = false\n",
        "\n",
        "3 == 3 or 15 < 3 = True\n",
        "\n",
        "not True = False"
      ]
    },
    {
      "cell_type": "markdown",
      "metadata": {
        "id": "SyCF9hXD78zj"
      },
      "source": [
        "para aplicar los operadores matematicos y logicos debemos tener en cuenta de que llamamos **diagramas de flujos**, esto nos permite mayor organizacion de las ideas para la toma de deciciones."
      ]
    },
    {
      "cell_type": "markdown",
      "metadata": {
        "id": "rXrVmi8OBTav"
      },
      "source": [
        "**Comando IF**\n",
        "\n",
        "---\n",
        "Este comando permite evaluar si una sentencia es verdadera o falsa. Es decir se ejecuta una accion establecida mediante un codigo de una instruccion o varias inmediantamente en las lineas siguientes a dicha condicion."
      ]
    },
    {
      "cell_type": "code",
      "metadata": {
        "colab": {
          "base_uri": "https://localhost:8080/"
        },
        "id": "Hc6A9y55Bv6g",
        "outputId": "7c722e7d-7651-44f3-d3e4-1d7d2515239e"
      },
      "source": [
        "num = int(input(\"Escriba un numero: \"))\n",
        "if num == 200:\n",
        "  print(\"Escribiste el 200\")"
      ],
      "execution_count": 3,
      "outputs": [
        {
          "output_type": "stream",
          "text": [
            "Escriba un numero: 200\n"
          ],
          "name": "stdout"
        }
      ]
    },
    {
      "cell_type": "markdown",
      "metadata": {
        "id": "RLz-W7mqCY8Q"
      },
      "source": [
        "**Comando ELSE**\n",
        "\n",
        "---\n",
        "En español es conocido como \"si no\". Este comando permite relacionar las acciones que deberia realizar en caso de que la condicion sea falsa."
      ]
    },
    {
      "cell_type": "code",
      "metadata": {
        "colab": {
          "base_uri": "https://localhost:8080/"
        },
        "id": "r04oA9sxCvvz",
        "outputId": "5c9844dd-9e58-45ad-f2b8-1220b53ffed8"
      },
      "source": [
        "num = int(input(\"Escriba un numero: \"))\n",
        "if num == 200:\n",
        "  print(\"Escribiste el 200\")\n",
        "else:\n",
        "  print(\"El numero escrito no es 200\") "
      ],
      "execution_count": 6,
      "outputs": [
        {
          "output_type": "stream",
          "text": [
            "Escriba un numero: 200\n",
            "Escribiste el 200\n"
          ],
          "name": "stdout"
        }
      ]
    },
    {
      "cell_type": "markdown",
      "metadata": {
        "id": "B2OIpJ5LEEii"
      },
      "source": [
        "**Comando ELIF**\n",
        "\n",
        "---\n",
        "Significa \"sino, si\" y permite concatenar condiciones:"
      ]
    },
    {
      "cell_type": "code",
      "metadata": {
        "colab": {
          "base_uri": "https://localhost:8080/"
        },
        "id": "vga24O-g7M3P",
        "outputId": "e92addaf-c4ba-4e83-e127-890d5035069a"
      },
      "source": [
        "num = int(input(\"Escriba un numero: \"))\n",
        "if num == 200:\n",
        "  print(\"Escribiste el 200\")\n",
        "elif num > 200:\n",
        "  print(\"El numero escrito es mayor a 200\")\n",
        "else:\n",
        "  print(\"El numero escrito no es 200\")"
      ],
      "execution_count": 7,
      "outputs": [
        {
          "output_type": "stream",
          "text": [
            "Escriba un numero: 300\n",
            "El numero escrito es mayor a 200\n"
          ],
          "name": "stdout"
        }
      ]
    },
    {
      "cell_type": "markdown",
      "metadata": {
        "id": "EdJEawAoH2jb"
      },
      "source": [
        "**Condicionales multiples**\n",
        "\n",
        "---\n",
        "Cuando se presentan situaciones con mas de una condicion que dependen unas de otras, estas se pueden tratar mediante elk manejo devarias sentencias o comandos If, o mediante el manejo adecuado  del comando elif. Sin embargo, en muchos casos cuando hay multiples condiciones, la promocion necesita mayor cantidad de lineas de codigo. \n",
        "\n",
        "En esos casos es necesario el uso de operadores logicos como el and y or."
      ]
    },
    {
      "cell_type": "code",
      "metadata": {
        "colab": {
          "base_uri": "https://localhost:8080/"
        },
        "id": "0Sm7WPjLILB8",
        "outputId": "d8d98d8f-1121-4b1d-d9e3-3b8bb39bab0d"
      },
      "source": [
        "x = int(input(\"valor: \")) #Condicional anidada\n",
        "if 0 < x:\n",
        "  if x < 10:\n",
        "    print(\"x es un numero positivo\")"
      ],
      "execution_count": 12,
      "outputs": [
        {
          "output_type": "stream",
          "text": [
            "valor: 5\n",
            "x es un numero positivo\n"
          ],
          "name": "stdout"
        }
      ]
    },
    {
      "cell_type": "code",
      "metadata": {
        "colab": {
          "base_uri": "https://localhost:8080/"
        },
        "id": "vI_SBXzNKGE3",
        "outputId": "029a93f0-bc6c-4df3-adeb-7680dfc7c54f"
      },
      "source": [
        "x = int(input(\"Valor: \")) #Expresion booleana\n",
        "if 0 < x and x < 10:\n",
        "  print(\"x es un numero de un solo digito\")"
      ],
      "execution_count": 13,
      "outputs": [
        {
          "output_type": "stream",
          "text": [
            "Valor: 4\n",
            "x es un numero de un solo digito\n"
          ],
          "name": "stdout"
        }
      ]
    },
    {
      "cell_type": "code",
      "metadata": {
        "colab": {
          "base_uri": "https://localhost:8080/"
        },
        "id": "LrvxlqflKnYC",
        "outputId": "acb71b17-a588-4ce5-df7c-4a4f8835f58d"
      },
      "source": [
        "x = int(input(\"Valor: \")) \n",
        "if 0 < x < 10:\n",
        "    print(\"x es un numero de un solo digito\")\n"
      ],
      "execution_count": 14,
      "outputs": [
        {
          "output_type": "stream",
          "text": [
            "Valor: 8\n",
            "x es un numero de un solo digito\n"
          ],
          "name": "stdout"
        }
      ]
    },
    {
      "cell_type": "markdown",
      "metadata": {
        "id": "2zXry64sKzVI"
      },
      "source": [
        "Esta condicion es la misma expresion booleana compuesta y la misma esprecion condicional anidada"
      ]
    }
  ]
}