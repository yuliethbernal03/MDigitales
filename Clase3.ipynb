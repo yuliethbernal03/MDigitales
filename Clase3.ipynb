{
  "nbformat": 4,
  "nbformat_minor": 0,
  "metadata": {
    "colab": {
      "name": "Clase3.ipynb",
      "provenance": [],
      "authorship_tag": "ABX9TyMP+5vzYgpzi0K/J21iSXXi",
      "include_colab_link": true
    },
    "kernelspec": {
      "name": "python3",
      "display_name": "Python 3"
    },
    "language_info": {
      "name": "python"
    }
  },
  "cells": [
    {
      "cell_type": "markdown",
      "metadata": {
        "id": "view-in-github",
        "colab_type": "text"
      },
      "source": [
        "<a href=\"https://colab.research.google.com/github/yuliethbernal03/MDigitales/blob/main/Clase3.ipynb\" target=\"_parent\"><img src=\"https://colab.research.google.com/assets/colab-badge.svg\" alt=\"Open In Colab\"/></a>"
      ]
    },
    {
      "cell_type": "markdown",
      "metadata": {
        "id": "z06GlMd041ve"
      },
      "source": [
        "**Estructura de condicionales**\n",
        "\n",
        "---\n",
        "A l momento de construir una instruccion de tipo condicional se debera comprender que dichas instrucciones estan diseñadas para ayudar en la toma de decisiones:\n",
        "\n",
        "Ejemplo:\n",
        "**si **Pedro va a la tienda de la izquierda llegara mas rapido, **sino** se demorara mas.\n",
        "\n",
        "eXISTEN VARIOS TIPOS DE INSTRNES ALGUNOS PUEDEN SER SIMPLES Y OTROS MULTIPLES:\n",
        "SIN EMBARGO SOLO GENERAN DOS RESULTADOS.\n",
        "1. VERDAdero\n",
        "2. falso\n",
        "\n",
        "en python tales resultados serian True y False.\n",
        "\n",
        "\n"
      ]
    },
    {
      "cell_type": "markdown",
      "metadata": {
        "id": "7kWphDFg6jWL"
      },
      "source": [
        "para aplicar los condicionales que veremos a continuacion debemos recordar los comandos de operadores matematicos vistos la clase anterior.\n",
        "\n",
        "1. Igualdad (==)\n",
        "2. Diferencia (!=)\n",
        "3. menor que (<)\n",
        "4. mayor que (>)\n",
        "5. menor o igual que (<=)\n",
        "6. mayor o igual que (>=)"
      ]
    },
    {
      "cell_type": "markdown",
      "metadata": {
        "id": "NKrE_ygu7PdF"
      },
      "source": [
        "En condicionales multiplis, podemos enlazar los operadores logicos \n",
        "1. y (and)\n",
        "2. o (or)\n",
        "3. no (not)\n",
        "\n",
        "**Ejemplos: **\n",
        "3 == 8 and 8 > 12 = false\n",
        "\n",
        "3 == 3 or 15 < 3 = True\n",
        "\n",
        "not True = False"
      ]
    },
    {
      "cell_type": "markdown",
      "metadata": {
        "id": "SyCF9hXD78zj"
      },
      "source": [
        "para aplicar los operadores matematicos y logicos debemos tener en cuenta de que llamamos **diagramas de flujos**, esto nos permite mayor organizacion de las ideas para la toma de deciciones."
      ]
    },
    {
      "cell_type": "markdown",
      "metadata": {
        "id": "rXrVmi8OBTav"
      },
      "source": [
        "**Comando IF**\n",
        "\n",
        "---\n",
        "Este comando permite evaluar si una sentencia es verdadera o falsa. Es decir se ejecuta una accion establecida mediante un codigo de una instruccion o varias inmediantamente en las lineas siguientes a dicha condicion."
      ]
    },
    {
      "cell_type": "code",
      "metadata": {
        "colab": {
          "base_uri": "https://localhost:8080/"
        },
        "id": "Hc6A9y55Bv6g",
        "outputId": "7c722e7d-7651-44f3-d3e4-1d7d2515239e"
      },
      "source": [
        "num = int(input(\"Escriba un numero: \"))\n",
        "if num == 200:\n",
        "  print(\"Escribiste el 200\")"
      ],
      "execution_count": null,
      "outputs": [
        {
          "output_type": "stream",
          "text": [
            "Escriba un numero: 200\n"
          ],
          "name": "stdout"
        }
      ]
    },
    {
      "cell_type": "markdown",
      "metadata": {
        "id": "RLz-W7mqCY8Q"
      },
      "source": [
        "**Comando ELSE**\n",
        "\n",
        "---\n",
        "En español es conocido como \"si no\". Este comando permite relacionar las acciones que deberia realizar en caso de que la condicion sea falsa."
      ]
    },
    {
      "cell_type": "code",
      "metadata": {
        "colab": {
          "base_uri": "https://localhost:8080/"
        },
        "id": "r04oA9sxCvvz",
        "outputId": "5c9844dd-9e58-45ad-f2b8-1220b53ffed8"
      },
      "source": [
        "num = int(input(\"Escriba un numero: \"))\n",
        "if num == 200:\n",
        "  print(\"Escribiste el 200\")\n",
        "else:\n",
        "  print(\"El numero escrito no es 200\") "
      ],
      "execution_count": null,
      "outputs": [
        {
          "output_type": "stream",
          "text": [
            "Escriba un numero: 200\n",
            "Escribiste el 200\n"
          ],
          "name": "stdout"
        }
      ]
    },
    {
      "cell_type": "markdown",
      "metadata": {
        "id": "B2OIpJ5LEEii"
      },
      "source": [
        "**Comando ELIF**\n",
        "\n",
        "---\n",
        "Significa \"sino, si\" y permite concatenar condiciones:"
      ]
    },
    {
      "cell_type": "code",
      "metadata": {
        "colab": {
          "base_uri": "https://localhost:8080/"
        },
        "id": "vga24O-g7M3P",
        "outputId": "e92addaf-c4ba-4e83-e127-890d5035069a"
      },
      "source": [
        "num = int(input(\"Escriba un numero: \"))\n",
        "if num == 200:\n",
        "  print(\"Escribiste el 200\")\n",
        "elif num > 200:\n",
        "  print(\"El numero escrito es mayor a 200\")\n",
        "else:\n",
        "  print(\"El numero escrito no es 200\")"
      ],
      "execution_count": null,
      "outputs": [
        {
          "output_type": "stream",
          "text": [
            "Escriba un numero: 300\n",
            "El numero escrito es mayor a 200\n"
          ],
          "name": "stdout"
        }
      ]
    },
    {
      "cell_type": "markdown",
      "metadata": {
        "id": "EdJEawAoH2jb"
      },
      "source": [
        "**Condicionales multiples**\n",
        "\n",
        "---\n",
        "Cuando se presentan situaciones con mas de una condicion que dependen unas de otras, estas se pueden tratar mediante elk manejo devarias sentencias o comandos If, o mediante el manejo adecuado  del comando elif. Sin embargo, en muchos casos cuando hay multiples condiciones, la promocion necesita mayor cantidad de lineas de codigo. \n",
        "\n",
        "En esos casos es necesario el uso de operadores logicos como el and y or."
      ]
    },
    {
      "cell_type": "code",
      "metadata": {
        "colab": {
          "base_uri": "https://localhost:8080/"
        },
        "id": "0Sm7WPjLILB8",
        "outputId": "d8d98d8f-1121-4b1d-d9e3-3b8bb39bab0d"
      },
      "source": [
        "x = int(input(\"valor: \")) #Condicional anidada\n",
        "if 0 < x:\n",
        "  if x < 10:\n",
        "    print(\"x es un numero positivo\")"
      ],
      "execution_count": null,
      "outputs": [
        {
          "output_type": "stream",
          "text": [
            "valor: 5\n",
            "x es un numero positivo\n"
          ],
          "name": "stdout"
        }
      ]
    },
    {
      "cell_type": "code",
      "metadata": {
        "colab": {
          "base_uri": "https://localhost:8080/"
        },
        "id": "vI_SBXzNKGE3",
        "outputId": "029a93f0-bc6c-4df3-adeb-7680dfc7c54f"
      },
      "source": [
        "x = int(input(\"Valor: \")) #Expresion booleana\n",
        "if 0 < x and x < 10:\n",
        "  print(\"x es un numero de un solo digito\")"
      ],
      "execution_count": null,
      "outputs": [
        {
          "output_type": "stream",
          "text": [
            "Valor: 4\n",
            "x es un numero de un solo digito\n"
          ],
          "name": "stdout"
        }
      ]
    },
    {
      "cell_type": "code",
      "metadata": {
        "colab": {
          "base_uri": "https://localhost:8080/"
        },
        "id": "LrvxlqflKnYC",
        "outputId": "acb71b17-a588-4ce5-df7c-4a4f8835f58d"
      },
      "source": [
        "x = int(input(\"Valor: \")) \n",
        "if 0 < x < 10:\n",
        "    print(\"x es un numero de un solo digito\")\n"
      ],
      "execution_count": null,
      "outputs": [
        {
          "output_type": "stream",
          "text": [
            "Valor: 8\n",
            "x es un numero de un solo digito\n"
          ],
          "name": "stdout"
        }
      ]
    },
    {
      "cell_type": "markdown",
      "metadata": {
        "id": "2zXry64sKzVI"
      },
      "source": [
        "Esta condicion es la misma expresion booleana compuesta y la misma esprecion condicional anidada"
      ]
    },
    {
      "cell_type": "markdown",
      "metadata": {
        "id": "EYP8PomnNFCN"
      },
      "source": [
        "## **Estructura de control iterativas**\n",
        "\n",
        "---\n",
        "las variables son claves enlas eztructuras de contol iterativas, puesto que son el medio entre la iteracion y la condicion que se esta ejecutando.\n",
        "\n",
        "**Que es iteracion?**\n",
        "\n",
        "Iteracion es la consecusion del codigo  tantas veces requiera hasta que se cumplan las condiciones establecidas.\n",
        "\n",
        "**Banderas**\n",
        "Son las variables que toman un valor preferiblemente binario, booleano e indican un estado.\n",
        "\n",
        "Ejemplo: "
      ]
    },
    {
      "cell_type": "code",
      "metadata": {
        "colab": {
          "base_uri": "https://localhost:8080/"
        },
        "id": "c42TeFp0N5S8",
        "outputId": "58114a03-c4cf-48f9-ea4e-1f809d2754b0"
      },
      "source": [
        "suma = False\n",
        "total = 0 \n",
        "a = 3\n",
        "b = 10\n",
        "\n",
        "if suma == False:\n",
        "  total = a + b\n",
        "  suma = True\n",
        "\n",
        "if (suma == True):\n",
        "  print(\"el valor total de la suma es:\",total )"
      ],
      "execution_count": null,
      "outputs": [
        {
          "output_type": "stream",
          "text": [
            "el valor total de la suma es: 13\n"
          ],
          "name": "stdout"
        }
      ]
    },
    {
      "cell_type": "markdown",
      "metadata": {
        "id": "U6kDg2NRPrFI"
      },
      "source": [
        "La variable suma en este caso es de tipo booleano y su funcion es indicar cuando se ejecuto la suma. Por lo tanto tiene un estado inicial \"False\" pero luego de ejecutar la suma toma el valor \"True\".\n",
        "\n",
        "Cuando pasa esto escuchamos la frase \"la bandera se levanto\" esto quiere decir que una u otra accion hizo que el estado de la bandera se cambiara.\n",
        "\n",
        "Ejemplo cualitativo: **CASO CONTAGIO**"
      ]
    },
    {
      "cell_type": "code",
      "metadata": {
        "id": "AUifVFT1QqsK",
        "colab": {
          "base_uri": "https://localhost:8080/"
        },
        "outputId": "29054a76-2433-4abd-bce0-98160baad259"
      },
      "source": [
        "paciente = input(\"ingrese el paciente: \")\n",
        "contagio_v = input(\"¿Te haz realizado la prueba de contagio? \") \n",
        "\n",
        "if (contagio_v == \"No\"):\n",
        "  print(\"La pacinte \", paciente, \" no se ha realizado la prueba para validar, por favor realizarse la prueba en el centro de salud mas cercano\")\n",
        "  print(\"Por favor, realizarse la prueba\")\n",
        "  \n",
        "  if (contagio_v == \"Pendiente\"):\n",
        "    print(paciente,\", Por favor revisar el correo donde se le adjunto el resultado de la prueba.\")\n",
        "    \n",
        "    if (contagio_v == \"Si\"):\n",
        "      print(paciente,\", Dado que es positivo el resultado de su prueba, mantener una distancia de las personas por lo menos 15 dias.\")\n"
      ],
      "execution_count": 36,
      "outputs": [
        {
          "output_type": "stream",
          "text": [
            "ingrese el paciente: fg4ew\n",
            "¿Te haz realizado la prueba de contagio? Si\n"
          ],
          "name": "stdout"
        }
      ]
    },
    {
      "cell_type": "markdown",
      "metadata": {
        "id": "Jv4RN3uZUIQS"
      },
      "source": [
        "el bootcamp comenzo el 26 de julio de 2021. se les explico a las estudiantes que se les evaluaria de la siguienrte forma. \n",
        "1. tareas 10%\n",
        "2. Talleres 25%\n",
        "2. asistencia 5%\n",
        "4. Participacion 15%\n",
        "5. proyecto 45%\n",
        "\n",
        "Teniendo en cuenta las ponderaciones de calificacion del bootcamp las estudiantes deciden desarrollar un programa que les permita saber cuanto tendria que sacar en el proyecto para tener una definitiva de 3.7 minimo en el curso. si las notas que llevan hasta el momento son las siguientes\n",
        "\n",
        "1. tareas 4.5\n",
        "2. talleres 4.0 \n",
        "3. asistencia 5.0\n",
        "4. participacion 4.0 \n",
        "\n",
        "¿cuanto tendria que sacra en el proyecto?"
      ]
    },
    {
      "cell_type": "code",
      "metadata": {
        "id": "iwWzEtZnWdk1"
      },
      "source": [
        ""
      ],
      "execution_count": null,
      "outputs": []
    }
  ]
}