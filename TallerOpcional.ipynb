{
  "nbformat": 4,
  "nbformat_minor": 0,
  "metadata": {
    "colab": {
      "name": "TallerOpcional.ipynb",
      "provenance": [],
      "authorship_tag": "ABX9TyN3sGGesv05G5rRK0sIT664",
      "include_colab_link": true
    },
    "kernelspec": {
      "name": "python3",
      "display_name": "Python 3"
    },
    "language_info": {
      "name": "python"
    }
  },
  "cells": [
    {
      "cell_type": "markdown",
      "metadata": {
        "id": "view-in-github",
        "colab_type": "text"
      },
      "source": [
        "<a href=\"https://colab.research.google.com/github/yuliethbernal03/MDigitales/blob/main/TallerOpcional.ipynb\" target=\"_parent\"><img src=\"https://colab.research.google.com/assets/colab-badge.svg\" alt=\"Open In Colab\"/></a>"
      ]
    },
    {
      "cell_type": "code",
      "metadata": {
        "colab": {
          "base_uri": "https://localhost:8080/"
        },
        "id": "Z91N6IGdUOOJ",
        "outputId": "ea2e1d7b-7cec-4696-96d1-9413def944b2"
      },
      "source": [
        "premio1=\"Viaje todo incluído para dos personas a San Andrés\"\n",
        "premio2=\"Un pasadía a los termales de San Vicente incluyendo almuerzo\"\n",
        "premio3=\"Viaje todo incluido para dos personas a Santa Marta\"\n",
        "premio4=\"Pasadía al desierto de Tatacoa\"\n",
        "premio5=\"No hay premio\"\n",
        "\n",
        "\n",
        "concursante = input(\"Ingrese el nombre del concursante: \")\n",
        "Colorbalota = input(\"Ingrese el color de la balota: \")\n",
        "valorVariable = int (input(\"Ingrese el valor de la variable: \"))\n",
        "if (Colorbalota == \"Rosado\"):\n",
        "  adicional1 = (valorVariable * 15) // 100\n",
        "  if (adicional1 > 120000):\n",
        "    print(\"La empresa VIVAFLY se complace en anunciar que el participante \",concursante,\" gano \",premio1, \"en nuestro sorteo de viajes de AMOR y AMISTAD\")\n",
        "    print(\"Mas \",adicional1,\" en efectivo.\")\n",
        "  elif (adicional1 < 120000):\n",
        "    print(\"La empresa VIVAFLY se complace en anunciar que el participante \",concursante,\" gano \",premio1, \"en nuestro sorteo de viajes de AMOR y AMISTAD\")\n",
        "    print(\"Mas dos de cine 4D para la pelicula de estreno del mes incluyendo un solo combo de palomitas.\")\n",
        "elif (Colorbalota == \"Verde\"):\n",
        "  adicional2 = (valorVariable * 20) // 100\n",
        "  if (adicional2 > 120000):\n",
        "    print(\"La empresa VIVAFLY se complace en anunciar que el participante \",concursante,\" gano \",premio2, \"en nuestro sorteo de viajes de AMOR y AMISTAD\")\n",
        "    print(\"Mas \",adicional2,\" en efectivo.\")\n",
        "  elif (adicional2 < 120000):\n",
        "    print(\"La empresa VIVAFLY se complace en anunciar que el participante \",concursante,\" gano \",premio2, \"en nuestro sorteo de viajes de AMOR y AMISTAD\")\n",
        "    print(\"Mas dos de cine 4D para la pelicula de estreno del mes incluyendo un solo combo de palomitas.\")\n",
        "elif (Colorbalota == \"Azul\"):\n",
        "  adicional3 = (valorVariable * 5) // 100\n",
        "  if (adicional3 > 120000):\n",
        "    print(\"La empresa VIVAFLY se complace en anunciar que el participante \",concursante,\" gano \",premio3, \"en nuestro sorteo de viajes de AMOR y AMISTAD\")\n",
        "    print(\"Mas \",adicional3,\" en efectivo.\")\n",
        "  elif (adicional3 < 120000):\n",
        "    print(\"La empresa VIVAFLY se complace en anunciar que el participante \",concursante,\" gano \",premio3, \"en nuestro sorteo de viajes de AMOR y AMISTAD\")\n",
        "    print(\"Mas dos de cine 4D para la pelicula de estreno del mes incluyendo un solo combo de palomitas.\")\n",
        "elif (Colorbalota == \"Gris\"):\n",
        "  adicional4 = (valorVariable * 20) // 100\n",
        "  if (adicional4 > 120000):\n",
        "    print(\"La empresa VIVAFLY se complace en anunciar que el participante \",concursante,\" gano \",premio4, \"en nuestro sorteo de viajes de AMOR y AMISTAD\")\n",
        "    print(\"Mas \",adicional4,\" en efectivo.\")\n",
        "  elif (adicional4 < 120000):\n",
        "    print(\"La empresa VIVAFLY se complace en anunciar que el participante \",concursante,\" gano \",premio4, \"en nuestro sorteo de viajes de AMOR y AMISTAD\")\n",
        "    print(\"Mas dos de cine 4D para la pelicula de estreno del mes incluyendo un solo combo de palomitas.\")\n",
        "elif (Colorbalota == \"Rojo\"):\n",
        "    print(\"La empresa VIVAFLY lamenta anunciar que el participante \",concursante,\", no gano un viaje en nuestro sorteo de viajes de AMOR y AMISTAD\")\n",
        "    print(\"Pero gano un premio de 120000 en efectivo.\")\n",
        "  \n",
        "\n"
      ],
      "execution_count": 25,
      "outputs": [
        {
          "output_type": "stream",
          "text": [
            "Ingrese el nombre del concursante: yuli\n",
            "Ingrese el color de la balota: Verde\n",
            "Ingrese el valor de la variable: 1000000\n",
            "La empresa VIVAFLY se complace en anunciar que el participante  yuli  gano  Un pasadía a los termales de San Vicente incluyendo almuerzo en nuestro sorteo de viajes de AMOR y AMISTAD\n",
            "Mas  200000  en efectivo.\n"
          ],
          "name": "stdout"
        }
      ]
    }
  ]
}