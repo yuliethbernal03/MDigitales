{
  "nbformat": 4,
  "nbformat_minor": 0,
  "metadata": {
    "colab": {
      "name": "TallerOpcional.ipynb",
      "provenance": [],
      "authorship_tag": "ABX9TyPvSVy+2ISG1TU3+/Edzs9x",
      "include_colab_link": true
    },
    "kernelspec": {
      "name": "python3",
      "display_name": "Python 3"
    },
    "language_info": {
      "name": "python"
    }
  },
  "cells": [
    {
      "cell_type": "markdown",
      "metadata": {
        "id": "view-in-github",
        "colab_type": "text"
      },
      "source": [
        "<a href=\"https://colab.research.google.com/github/yuliethbernal03/MDigitales/blob/main/TallerOpcional.ipynb\" target=\"_parent\"><img src=\"https://colab.research.google.com/assets/colab-badge.svg\" alt=\"Open In Colab\"/></a>"
      ]
    },
    {
      "cell_type": "code",
      "metadata": {
        "id": "Z91N6IGdUOOJ"
      },
      "source": [
        "premio1=\"Viaje todo incluído para dos personas a San Andrés\"\n",
        "premio2=\"Un pasadía a los termales de San Vicente incluyendo almuerzo\"\n",
        "premio3=\"Viaje todo incluido para dos personas a Santa Marta\"\n",
        "premio4=\"Pasadía al desierto de Tatacoa\"\n",
        "premio5=\"No hay premio\"\n",
        "\n",
        "adicional1 = (1000000 * 15) // 100\n",
        "adicional2 = (1000000 * 20) // 100\n",
        "adicional3 = (1000000 * 5) // 100\n",
        "adicional4 = (1000000 * 20) // 100\n",
        "\n",
        "concursante = input(\"Ingrese el nombre del concursante: \")\n",
        "Colorbalota = input(\"Ingrese el color de la balota: \")\n",
        "if (Colorbalota == \"Rosado\"):\n",
        "  print(\"La empresa VIVAFLY se complace en anunciar que el participante \",concursante,\" gano \",premio1, \"en nuestro sorteo de viajes de AMOR y AMISTAD\")\n",
        "  print(\"Mas \",adicional1,\" en efectivo.\")\n",
        "elif (Colorbalota == \"Verde\"):\n",
        "  print(\"La empresa VIVAFLY se complace en anunciar que el participante \",concursante,\" gano \",premio2, \"en nuestro sorteo de viajes de AMOR y AMISTAD\")\n",
        "  print(\"Mas \",adicional2,\" en efectivo.\")\n",
        "elif (Colorbalota == \"Azul\"):\n",
        "  print(\"La empresa VIVAFLY se complace en anunciar que el participante \",concursante,\" gano \",premio3, \"en nuestro sorteo de viajes de AMOR y AMISTAD\")\n",
        "  print(\"Mas \",adicional3,\" en efectivo.\")\n",
        "elif (Colorbalota == \"Gris\"):\n",
        "  print(\"La empresa VIVAFLY se complace en anunciar que el participante \",concursante,\" gano \",premio4, \"en nuestro sorteo de viajes de AMOR y AMISTAD\")\n",
        "  print(\"Mas \",adicional4,\" en efectivo.\")\n",
        "elif (Colorbalota == \"Rojo\"):\n",
        "  print(\"La empresa VIVAFLY se complace en anunciar que para el participante \",concursante, \" \" ,premio,\"en nuestro sorteo de viajes de AMOR y AMISTAD\")\n",
        "  print(\"dos boletas de cine 4D para la película en estreno del mes incluyendo un solo combo de palomitas.\")"
      ],
      "execution_count": null,
      "outputs": []
    }
  ]
}