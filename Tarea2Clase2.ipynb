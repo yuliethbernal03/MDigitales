{
  "nbformat": 4,
  "nbformat_minor": 0,
  "metadata": {
    "colab": {
      "name": "Tarea2Clase2.ipynb",
      "provenance": [],
      "authorship_tag": "ABX9TyMjeoHUth8MFM9p/H6TwEJS",
      "include_colab_link": true
    },
    "kernelspec": {
      "name": "python3",
      "display_name": "Python 3"
    },
    "language_info": {
      "name": "python"
    }
  },
  "cells": [
    {
      "cell_type": "markdown",
      "metadata": {
        "id": "view-in-github",
        "colab_type": "text"
      },
      "source": [
        "<a href=\"https://colab.research.google.com/github/yuliethbernal03/MDigitales/blob/main/Tarea2Clase2.ipynb\" target=\"_parent\"><img src=\"https://colab.research.google.com/assets/colab-badge.svg\" alt=\"Open In Colab\"/></a>"
      ]
    },
    {
      "cell_type": "markdown",
      "metadata": {
        "id": "7C9e9sRpt2ga"
      },
      "source": [
        "**Agregar 5 ejercicios mezclando todo lo visto en la clase de hoy**"
      ]
    },
    {
      "cell_type": "markdown",
      "metadata": {
        "id": "l-A6kywR-0Wp"
      },
      "source": [
        "Ejercicio 1"
      ]
    },
    {
      "cell_type": "code",
      "metadata": {
        "colab": {
          "base_uri": "https://localhost:8080/"
        },
        "id": "3OL1fm5m8opI",
        "outputId": "2578123b-5ff7-42c2-8abd-1c804e0e8826"
      },
      "source": [
        "n1 = float(input(\"Ingrese el primer numero: \"))\n",
        "n2 = float(input(\"Ingrese el segundo numero: \"))\n",
        "suma = n1 + n2\n",
        "resta = n1 - n2\n",
        "multiplicacion = n1 * n2\n",
        "division_inexacta = n1 / n2\n",
        "division_exacta = n1 // n2\n",
        "print(\"Suma: \",suma)\n",
        "print(\"Resta: \",resta)\n",
        "print(\"multiplicacion: \",multiplicacion)\n",
        "print(\"divisio inexacta\",division_inexacta)\n",
        "print(\"divisio exacta\",division_exacta)\n"
      ],
      "execution_count": null,
      "outputs": [
        {
          "output_type": "stream",
          "text": [
            "Ingrese el primer numero: 2\n",
            "Ingrese el segundo numero: 6\n",
            "Suma:  8.0\n",
            "Resta:  -4.0\n",
            "multiplicacion:  12.0\n",
            "divisio inexacta 0.3333333333333333\n",
            "divisio exacta 0.0\n"
          ],
          "name": "stdout"
        }
      ]
    },
    {
      "cell_type": "markdown",
      "metadata": {
        "id": "oMifjJibfJ3e"
      },
      "source": [
        "Ejercicio 2"
      ]
    },
    {
      "cell_type": "code",
      "metadata": {
        "id": "D21BV7-dfOwi",
        "outputId": "d1545f63-de6b-4d0b-d1f8-af738a5933bc",
        "colab": {
          "base_uri": "https://localhost:8080/"
        }
      },
      "source": [
        "x = 6\n",
        "y = 8\n",
        "print(\"Operadores aritmeticos\")\n",
        "print(\"x+y: \",x+y)\n",
        "print(\"x-y: \",x-y)\n",
        "print(\"x*y: \",x*y)\n",
        "print(\"x/y: \",x/y)\n",
        "print(\"x%y: \",x%y)\n",
        "print(\"x**y:\",x**y)\n",
        "print(\"x//y:\",x//y)\n",
        "\n"
      ],
      "execution_count": 5,
      "outputs": [
        {
          "output_type": "stream",
          "text": [
            "Operadores aritmeticos\n",
            "x+y:  14\n",
            "x-y:  -2\n",
            "x*y:  48\n",
            "x/y:  0.75\n",
            "x%y:  6\n",
            "x**y: 1679616\n",
            "x//y: 0\n"
          ],
          "name": "stdout"
        }
      ]
    },
    {
      "cell_type": "markdown",
      "metadata": {
        "id": "ySWRKrjBnIHg"
      },
      "source": [
        "Ejercicio 3"
      ]
    },
    {
      "cell_type": "code",
      "metadata": {
        "id": "Pj5ijHrmnabt",
        "outputId": "735ddae0-2197-4d2c-b03c-2aca60ffd6f6",
        "colab": {
          "base_uri": "https://localhost:8080/"
        }
      },
      "source": [
        "a = 1 \n",
        "b = 5\n",
        "c = 2\n",
        "print(\"Operadores de comparacion\")\n",
        "print(\"a > b ?: \",a > b)\n",
        "print(\"b >= c ?: \",b >= c)\n",
        "print(\"b < a ?: \",b < a)\n",
        "print(\"a <= c ?: \",a <= c)\n",
        "print(\"b == a ?: \",b == a)\n",
        "print(\"b != c ?:\",b != c)\n"
      ],
      "execution_count": 7,
      "outputs": [
        {
          "output_type": "stream",
          "text": [
            "Operadores de comparacion\n",
            "a > b ?:  False\n",
            "b >= c ?:  True\n",
            "b < a ?:  False\n",
            "a <= c ?:  True\n",
            "b == a ?:  False\n",
            "b != c ?: True\n"
          ],
          "name": "stdout"
        }
      ]
    },
    {
      "cell_type": "markdown",
      "metadata": {
        "id": "dk8GD_JZsFB5"
      },
      "source": [
        "Ejercicio 4"
      ]
    },
    {
      "cell_type": "code",
      "metadata": {
        "id": "Y_wj52hFsHSW",
        "outputId": "534c6c63-74a4-4050-8ece-f1d468f271cd",
        "colab": {
          "base_uri": "https://localhost:8080/"
        }
      },
      "source": [
        "x = 5\n",
        "y = 2\n",
        "print(\"Operadores logicos\")\n",
        "print(\"False and False or True: \",False and False or True)\n",
        "print(\"True or False and False: \",True or False and False)\n",
        "print(\"1 and not 0 or 0 and not 1 or 0 and 1: \",1 and not 0 or 0 and not 1 or 0 and 1)\n"
      ],
      "execution_count": 9,
      "outputs": [
        {
          "output_type": "stream",
          "text": [
            "Operadores logicos\n",
            "False and False or True:  True\n",
            "True or False and False:  True\n",
            "1 and not 0 or 0 and not 1 or 0 and 1:  True\n"
          ],
          "name": "stdout"
        }
      ]
    },
    {
      "cell_type": "markdown",
      "metadata": {
        "id": "sP1f7K_wydfY"
      },
      "source": [
        "Ejercicio 5"
      ]
    },
    {
      "cell_type": "code",
      "metadata": {
        "id": "-YHqufwDzSBx",
        "outputId": "50e2cac7-a431-4abc-9e24-301279e73135",
        "colab": {
          "base_uri": "https://localhost:8080/"
        }
      },
      "source": [
        "print(\"1 or 0 and not 1 or 0 and 1: \",1 or 0 and not 1 or 0 and 1)\n",
        "print(\"5 and not 0 or 0 and not 8 or 0 and 1: \",5 and not 0 or 0 and not 1 or 0 and 1)\n",
        "\n"
      ],
      "execution_count": 11,
      "outputs": [
        {
          "output_type": "stream",
          "text": [
            "1 or 0 and not 1 or 0 and 1:  1\n",
            "5 and not 0 or 0 and not 8 or 0 and 1:  True\n"
          ],
          "name": "stdout"
        }
      ]
    }
  ]
}