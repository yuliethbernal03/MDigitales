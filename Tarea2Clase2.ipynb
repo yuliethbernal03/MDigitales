{
  "nbformat": 4,
  "nbformat_minor": 0,
  "metadata": {
    "colab": {
      "name": "Tarea2Clase2.ipynb",
      "provenance": [],
      "authorship_tag": "ABX9TyPJwa2xVQvp0Nkvzs3NiY5n",
      "include_colab_link": true
    },
    "kernelspec": {
      "name": "python3",
      "display_name": "Python 3"
    },
    "language_info": {
      "name": "python"
    }
  },
  "cells": [
    {
      "cell_type": "markdown",
      "metadata": {
        "id": "view-in-github",
        "colab_type": "text"
      },
      "source": [
        "<a href=\"https://colab.research.google.com/github/yuliethbernal03/MDigitales/blob/main/Tarea2Clase2.ipynb\" target=\"_parent\"><img src=\"https://colab.research.google.com/assets/colab-badge.svg\" alt=\"Open In Colab\"/></a>"
      ]
    },
    {
      "cell_type": "markdown",
      "metadata": {
        "id": "7C9e9sRpt2ga"
      },
      "source": [
        "**Agregar 5 ejercicios mezclando todo lo visto en la clase de hoy**"
      ]
    },
    {
      "cell_type": "markdown",
      "metadata": {
        "id": "l-A6kywR-0Wp"
      },
      "source": [
        "Ejercicio 1"
      ]
    },
    {
      "cell_type": "code",
      "metadata": {
        "colab": {
          "base_uri": "https://localhost:8080/"
        },
        "id": "3OL1fm5m8opI",
        "outputId": "2578123b-5ff7-42c2-8abd-1c804e0e8826"
      },
      "source": [
        "n1 = float(input(\"Ingrese el primer numero: \"))\n",
        "n2 = float(input(\"Ingrese el segundo numero: \"))\n",
        "suma = n1 + n2\n",
        "resta = n1 - n2\n",
        "multiplicacion = n1 * n2\n",
        "division_inexacta = n1 / n2\n",
        "division_exacta = n1 // n2\n",
        "print(\"Suma: \",suma)\n",
        "print(\"Resta: \",resta)\n",
        "print(\"multiplicacion: \",multiplicacion)\n",
        "print(\"divisio inexacta\",division_inexacta)\n",
        "print(\"divisio exacta\",division_exacta)\n"
      ],
      "execution_count": 4,
      "outputs": [
        {
          "output_type": "stream",
          "text": [
            "Ingrese el primer numero: 2\n",
            "Ingrese el segundo numero: 6\n",
            "Suma:  8.0\n",
            "Resta:  -4.0\n",
            "multiplicacion:  12.0\n",
            "divisio inexacta 0.3333333333333333\n",
            "divisio exacta 0.0\n"
          ],
          "name": "stdout"
        }
      ]
    }
  ]
}