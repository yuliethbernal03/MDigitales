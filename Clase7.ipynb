{
  "nbformat": 4,
  "nbformat_minor": 0,
  "metadata": {
    "colab": {
      "name": "Clase7.ipynb",
      "provenance": [],
      "authorship_tag": "ABX9TyPGFxcPetRuo2ZM4YyfT3pC",
      "include_colab_link": true
    },
    "kernelspec": {
      "name": "python3",
      "display_name": "Python 3"
    },
    "language_info": {
      "name": "python"
    }
  },
  "cells": [
    {
      "cell_type": "markdown",
      "metadata": {
        "id": "view-in-github",
        "colab_type": "text"
      },
      "source": [
        "<a href=\"https://colab.research.google.com/github/yuliethbernal03/MDigitales/blob/main/Clase7.ipynb\" target=\"_parent\"><img src=\"https://colab.research.google.com/assets/colab-badge.svg\" alt=\"Open In Colab\"/></a>"
      ]
    },
    {
      "cell_type": "markdown",
      "metadata": {
        "id": "Bt-fcBJaw9zU"
      },
      "source": [
        "**Continuacion de funciones**\n",
        "\n",
        "---\n",
        "\n",
        "\n"
      ]
    },
    {
      "cell_type": "code",
      "metadata": {
        "colab": {
          "base_uri": "https://localhost:8080/",
          "height": 182
        },
        "id": "EevWLSFkw_Gp",
        "outputId": "87f4521c-295d-4cda-ad2f-400b1307487a"
      },
      "source": [
        "\n",
        "suma(1,2)# al realizar el caombio y/o edicion de la funcion suma se que veniamos usando, se puede añadir n elementos para iterar la funcion definida"
      ],
      "execution_count": 4,
      "outputs": [
        {
          "output_type": "error",
          "ename": "TypeError",
          "evalue": "ignored",
          "traceback": [
            "\u001b[0;31m---------------------------------------------------------------------------\u001b[0m",
            "\u001b[0;31mTypeError\u001b[0m                                 Traceback (most recent call last)",
            "\u001b[0;32m<ipython-input-4-642da3723144>\u001b[0m in \u001b[0;36m<module>\u001b[0;34m()\u001b[0m\n\u001b[1;32m      1\u001b[0m \u001b[0;34m\u001b[0m\u001b[0m\n\u001b[0;32m----> 2\u001b[0;31m \u001b[0msuma\u001b[0m\u001b[0;34m(\u001b[0m\u001b[0;36m1\u001b[0m\u001b[0;34m,\u001b[0m\u001b[0;36m2\u001b[0m\u001b[0;34m)\u001b[0m\u001b[0;34m\u001b[0m\u001b[0;34m\u001b[0m\u001b[0m\n\u001b[0m",
            "\u001b[0;31mTypeError\u001b[0m: 'int' object is not callable"
          ]
        }
      ]
    },
    {
      "cell_type": "markdown",
      "metadata": {
        "id": "8Cey0guj2wFo"
      },
      "source": [
        "El uso de ** :\n",
        "El uso de el doble * nos primitetener como prametro de entrada una li9sta de elementos en forma de clave y valor. La forma de iterar sera usando el comando *item()*\n"
      ]
    },
    {
      "cell_type": "code",
      "metadata": {
        "colab": {
          "base_uri": "https://localhost:8080/"
        },
        "id": "MtGShWFQ3KLf",
        "outputId": "60ce2b7c-073a-4c4d-fe08-bdf99c34720e"
      },
      "source": [
        "def suma(**dado):\n",
        "  suma=0\n",
        "  for i,j in dado.items():\n",
        "    suma +=j\n",
        "    return suma\n",
        "suma(a=3, b=30, c=7)"
      ],
      "execution_count": 9,
      "outputs": [
        {
          "output_type": "execute_result",
          "data": {
            "text/plain": [
              "3"
            ]
          },
          "metadata": {
            "tags": []
          },
          "execution_count": 9
        }
      ]
    },
    {
      "cell_type": "markdown",
      "metadata": {
        "id": "cEiq9pv14VyG"
      },
      "source": [
        "**Ampliemos la definicion del comando Return**\n",
        "\n",
        "---\n",
        "1. devolver parametros.\n"
      ]
    },
    {
      "cell_type": "code",
      "metadata": {
        "colab": {
          "base_uri": "https://localhost:8080/",
          "height": 35
        },
        "id": "LVquXKBa4r2v",
        "outputId": "b0abfffb-628a-43e9-b740-271cb4fcb33a"
      },
      "source": [
        "def w():\n",
        "  return \"Hi\"\n",
        "w()"
      ],
      "execution_count": 8,
      "outputs": [
        {
          "output_type": "execute_result",
          "data": {
            "application/vnd.google.colaboratory.intrinsic+json": {
              "type": "string"
            },
            "text/plain": [
              "'Hi'"
            ]
          },
          "metadata": {
            "tags": []
          },
          "execution_count": 8
        }
      ]
    },
    {
      "cell_type": "markdown",
      "metadata": {
        "id": "TECLXl--5Kyu"
      },
      "source": [
        "2. Devolver varias variables."
      ]
    },
    {
      "cell_type": "code",
      "metadata": {
        "colab": {
          "base_uri": "https://localhost:8080/"
        },
        "id": "yQATC3TV5ObE",
        "outputId": "63fb655b-7004-4a71-c9f0-ab3583a2cf29"
      },
      "source": [
        "def sd(a,b,c):\n",
        "  q=a+b+c # declaracion de variable con una suma de argumentos\n",
        "  z = q/3 #declaracion de variable con el promedio\n",
        "  return q,z\n",
        "q,z=sd(2,4,6)\n",
        "print(q)\n",
        "print(z)"
      ],
      "execution_count": 12,
      "outputs": [
        {
          "output_type": "stream",
          "text": [
            "12\n",
            "4.0\n"
          ],
          "name": "stdout"
        }
      ]
    },
    {
      "cell_type": "markdown",
      "metadata": {
        "id": "H9P0emVB5-Tt"
      },
      "source": [
        "** Formas de hacer documentacion en programacion tipo bloques de codigo o linea **"
      ]
    },
    {
      "cell_type": "code",
      "metadata": {
        "colab": {
          "base_uri": "https://localhost:8080/"
        },
        "id": "hzLShkFy6S5f",
        "outputId": "f54d8665-1721-4069-d2e0-7eb16b18a57b"
      },
      "source": [
        "def paula(a,b):\n",
        "  \"\"\"\n",
        "  descripcion de la funcion, los parametrosque se van a usar, \n",
        "  explicar como se usa y que operaciones devuelve esta funcion\n",
        "  \"\"\"\n",
        "  return a+b \n",
        "paula(2,3)"
      ],
      "execution_count": 16,
      "outputs": [
        {
          "output_type": "execute_result",
          "data": {
            "text/plain": [
              "5"
            ]
          },
          "metadata": {
            "tags": []
          },
          "execution_count": 16
        }
      ]
    },
    {
      "cell_type": "code",
      "metadata": {
        "colab": {
          "base_uri": "https://localhost:8080/"
        },
        "id": "GXRt4lCe7Yti",
        "outputId": "89ac432d-6b1a-4cc8-a6c6-a634f296f3dc"
      },
      "source": [
        "help(paula)"
      ],
      "execution_count": 15,
      "outputs": [
        {
          "output_type": "stream",
          "text": [
            "Help on function paula in module __main__:\n",
            "\n",
            "paula(a, b)\n",
            "    descripcion de la funcion, los parametrosque se van a usar, \n",
            "    explicar como se usa y que operaciones devuelve esta funcion\n",
            "\n"
          ],
          "name": "stdout"
        }
      ]
    },
    {
      "cell_type": "code",
      "metadata": {
        "colab": {
          "base_uri": "https://localhost:8080/"
        },
        "id": "mxat29B07jyl",
        "outputId": "cd860495-6133-43f2-da88-97e3ac66f80a"
      },
      "source": [
        "print(paula.__doc__)# otra forma de llamar el comentario es print del nombre la la funcion seguido de punto seguido, doble guion bajo, escribir \"doc\" y seguido de dos guiones bajos"
      ],
      "execution_count": 17,
      "outputs": [
        {
          "output_type": "stream",
          "text": [
            "\n",
            "  descripcion de la funcion, los parametrosque se van a usar, \n",
            "  explicar como se usa y que operaciones devuelve esta funcion\n",
            "  \n"
          ],
          "name": "stdout"
        }
      ]
    },
    {
      "cell_type": "markdown",
      "metadata": {
        "id": "d9CRoQpc83zJ"
      },
      "source": [
        "**Diferencia entre valores y referencias**\n",
        "\n",
        "---\n",
        "Existen dos conceptos de paso por *valor* y por *referencia* que se aplican a la hora de tratar a los parametros de entrada de una funcion:\n",
        "\n",
        "1. sis e usa un parametro que pasa por valor, se fcrea una copia local de la variable, lo cual implica que cualquier modificacion sobre esta no tendra repercusion sobre la base original.\n",
        "\n",
        "2. Si se usa la variable pasa como referencia, si actuara directamenete sobre la base original\n"
      ]
    },
    {
      "cell_type": "code",
      "metadata": {
        "colab": {
          "base_uri": "https://localhost:8080/"
        },
        "id": "SWRoJ6kI9rA7",
        "outputId": "d1bfc6c7-816e-4e2f-f14f-e76dd7656a77"
      },
      "source": [
        "#ejemplode paso po **valor**\n",
        "\n",
        "x = 3\n",
        "def funcion(w):\n",
        "  w = 0\n",
        "funcion(x)\n",
        "print(x)"
      ],
      "execution_count": 21,
      "outputs": [
        {
          "output_type": "stream",
          "text": [
            "3\n"
          ],
          "name": "stdout"
        }
      ]
    },
    {
      "cell_type": "markdown",
      "metadata": {
        "id": "OcUH_uYr-d-e"
      },
      "source": [
        "1. inicio con x=3\n",
        "2. se lo pasamos a la funcion()\n",
        "3. Dentro de esta funcion hacemos que la variable valga cero.\n",
        "4. dado que pasa como valor, dentro de la funcion se crea una copia local de x. por lo cual, la variuable no se modifica"
      ]
    },
    {
      "cell_type": "code",
      "metadata": {
        "colab": {
          "base_uri": "https://localhost:8080/"
        },
        "id": "HseRGkVL_JHa",
        "outputId": "a2851c43-f248-4e88-b1f6-b7271733589f"
      },
      "source": [
        "##caso que se pasa por **Referencia**\n",
        "x = [3,6,9,12]\n",
        "def sw(tipo):\n",
        "  tipo.append(50)\n",
        "sw(x)\n",
        "print(x)"
      ],
      "execution_count": 22,
      "outputs": [
        {
          "output_type": "stream",
          "text": [
            "[3, 6, 9, 12, 50]\n"
          ],
          "name": "stdout"
        }
      ]
    },
    {
      "cell_type": "markdown",
      "metadata": {
        "id": "Rj5tuwYRBrrH"
      },
      "source": [
        "**Tipos de funciones**\n",
        "\n",
        "---\n",
        "1. funciones lambda\n",
        "\n",
        "---\n",
        "son funciones que normalmente se usan para definir el codigo en una sola linea.\n",
        "\n",
        "\n"
      ]
    },
    {
      "cell_type": "code",
      "metadata": {
        "colab": {
          "base_uri": "https://localhost:8080/"
        },
        "id": "WA9Of2rkB6_f",
        "outputId": "4053476c-120a-4455-d9bd-d68dd08be571"
      },
      "source": [
        "#lo que normalmente seria la definicion de la funcion de este estilo:\n",
        "#def suma(a,b,c,d):\n",
        " # returna+b+c+d\n",
        "\n",
        " #*# se puede escribir de la siguiente forma:\n",
        "(lambda a,b,c,d: a+b+c+d)(1,2,3,4)\n"
      ],
      "execution_count": 26,
      "outputs": [
        {
          "output_type": "execute_result",
          "data": {
            "text/plain": [
              "10"
            ]
          },
          "metadata": {
            "tags": []
          },
          "execution_count": 26
        }
      ]
    },
    {
      "cell_type": "code",
      "metadata": {
        "colab": {
          "base_uri": "https://localhost:8080/"
        },
        "id": "Az4FEjXR822T",
        "outputId": "6c4d6d15-6c58-4b95-8b43-527ec098fb77"
      },
      "source": [
        "(lambda *number:sum(number))(1,4,5,6,7,8,9)"
      ],
      "execution_count": 31,
      "outputs": [
        {
          "output_type": "execute_result",
          "data": {
            "text/plain": [
              "40"
            ]
          },
          "metadata": {
            "tags": []
          },
          "execution_count": 31
        }
      ]
    },
    {
      "cell_type": "code",
      "metadata": {
        "colab": {
          "base_uri": "https://localhost:8080/"
        },
        "id": "b1t1-qDsEslZ",
        "outputId": "e3c3e623-8dc1-42e6-ff95-32d2798be16c"
      },
      "source": [
        "(lambda **number:sum(number.values()))(a=1,b=4,c=10)"
      ],
      "execution_count": 35,
      "outputs": [
        {
          "output_type": "execute_result",
          "data": {
            "text/plain": [
              "15"
            ]
          },
          "metadata": {
            "tags": []
          },
          "execution_count": 35
        }
      ]
    },
    {
      "cell_type": "code",
      "metadata": {
        "colab": {
          "base_uri": "https://localhost:8080/"
        },
        "id": "21G6FXFwE_xd",
        "outputId": "313e3f36-4e8a-4d7e-d90d-c7ed36afacf8"
      },
      "source": [
        "luisa = lambda a,b,c,d:(a,b,c,d)\n",
        "print(luisa(2,5,7,9))"
      ],
      "execution_count": 36,
      "outputs": [
        {
          "output_type": "stream",
          "text": [
            "(2, 5, 7, 9)\n"
          ],
          "name": "stdout"
        }
      ]
    },
    {
      "cell_type": "markdown",
      "metadata": {
        "id": "XJCxYOxeFxAj"
      },
      "source": [
        "**RECURSIVIDAD**\n",
        "\n",
        "---\n",
        "las caracteristicas de una funcion recursiva son klas siguientes:\n",
        "\n",
        "1. seccion en que se llama a si misma.\n",
        "2. Seccion del bloque de codigo donde este la condicion que implique retornar sin volver a llamrse.(IMPORTANTE)\n",
        "\n",
        "lod ejemplod tradicionales de recursividad son la aplicacion de **Calculo factorial** y la **serie de fibonacci**\n",
        "\n",
        "**1. calculo factorial**\n",
        "\n",
        "En matematicas definimos factorial (n!) como la multiplicacion de todos sus numeros predecesores hasta llegar a uno:\n",
        "\n",
        "Ejemplo:\n",
        "\n",
        "5! = 5*4*3*2*1\n",
        "\n",
        "100! = 100*99*98*97*98*99......*1\n",
        "\n"
      ]
    },
    {
      "cell_type": "code",
      "metadata": {
        "colab": {
          "base_uri": "https://localhost:8080/"
        },
        "id": "xsu80flvHw0V",
        "outputId": "eee8b645-b306-4578-cacd-2fe64613dd5e"
      },
      "source": [
        "#apliquemos un enfoque no recursivo de calculo factorial:\n",
        "\n",
        "def factorial(n):\n",
        "  w=1\n",
        "  i=2\n",
        "  while i <= n:\n",
        "    w *= i\n",
        "    i += 1\n",
        "  return w\n",
        "factorial(5)\n"
      ],
      "execution_count": 41,
      "outputs": [
        {
          "output_type": "execute_result",
          "data": {
            "text/plain": [
              "120"
            ]
          },
          "metadata": {
            "tags": []
          },
          "execution_count": 41
        }
      ]
    },
    {
      "cell_type": "code",
      "metadata": {
        "colab": {
          "base_uri": "https://localhost:8080/"
        },
        "id": "4j5Ywi-fJDXs",
        "outputId": "680ac426-6e7c-4834-9343-daf100efd586"
      },
      "source": [
        "#Definamos factorial recursivo\n",
        "\n",
        "def recursivofac(n):\n",
        "  if n == 1:\n",
        "    return 1\n",
        "  else: \n",
        "    return n * recursivofac(n - 1)\n",
        "recursivofac(5)"
      ],
      "execution_count": 45,
      "outputs": [
        {
          "output_type": "execute_result",
          "data": {
            "text/plain": [
              "120"
            ]
          },
          "metadata": {
            "tags": []
          },
          "execution_count": 45
        }
      ]
    },
    {
      "cell_type": "markdown",
      "metadata": {
        "id": "qtPrDxOuKwl0"
      },
      "source": [
        "a continuacio completamos los tipos de generadores:\n",
        "\n",
        "1. Return\n",
        "2. Yield"
      ]
    },
    {
      "cell_type": "code",
      "metadata": {
        "colab": {
          "base_uri": "https://localhost:8080/"
        },
        "id": "FDs5e3tEK_dQ",
        "outputId": "aeda5d31-e747-4b81-f38c-027442de0ae5"
      },
      "source": [
        "def s():\n",
        "  yield 4\n",
        "s()"
      ],
      "execution_count": 47,
      "outputs": [
        {
          "output_type": "execute_result",
          "data": {
            "text/plain": [
              "<generator object s at 0x7ff845bfe550>"
            ]
          },
          "metadata": {
            "tags": []
          },
          "execution_count": 47
        }
      ]
    },
    {
      "cell_type": "markdown",
      "metadata": {
        "id": "0MPKYrgqLHSe"
      },
      "source": [
        "cuando usamos el return, nos devuelve el numero 4, pero cuando usamos yield lo que devuelve es un objeto de clase (generator)"
      ]
    }
  ]
}