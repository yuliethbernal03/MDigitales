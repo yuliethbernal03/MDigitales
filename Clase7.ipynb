{
  "nbformat": 4,
  "nbformat_minor": 0,
  "metadata": {
    "colab": {
      "name": "Clase7.ipynb",
      "provenance": [],
      "authorship_tag": "ABX9TyPPJC/l52AHkbATslZMBOqD",
      "include_colab_link": true
    },
    "kernelspec": {
      "name": "python3",
      "display_name": "Python 3"
    },
    "language_info": {
      "name": "python"
    }
  },
  "cells": [
    {
      "cell_type": "markdown",
      "metadata": {
        "id": "view-in-github",
        "colab_type": "text"
      },
      "source": [
        "<a href=\"https://colab.research.google.com/github/yuliethbernal03/MDigitales/blob/main/Clase7.ipynb\" target=\"_parent\"><img src=\"https://colab.research.google.com/assets/colab-badge.svg\" alt=\"Open In Colab\"/></a>"
      ]
    },
    {
      "cell_type": "markdown",
      "metadata": {
        "id": "Bt-fcBJaw9zU"
      },
      "source": [
        "**Continuacion de funciones**\n",
        "\n",
        "---\n",
        "\n",
        "\n"
      ]
    },
    {
      "cell_type": "code",
      "metadata": {
        "colab": {
          "base_uri": "https://localhost:8080/",
          "height": 182
        },
        "id": "EevWLSFkw_Gp",
        "outputId": "87f4521c-295d-4cda-ad2f-400b1307487a"
      },
      "source": [
        "\n",
        "suma(1,2)# al realizar el caombio y/o edicion de la funcion suma se que veniamos usando, se puede añadir n elementos para iterar la funcion definida"
      ],
      "execution_count": 4,
      "outputs": [
        {
          "output_type": "error",
          "ename": "TypeError",
          "evalue": "ignored",
          "traceback": [
            "\u001b[0;31m---------------------------------------------------------------------------\u001b[0m",
            "\u001b[0;31mTypeError\u001b[0m                                 Traceback (most recent call last)",
            "\u001b[0;32m<ipython-input-4-642da3723144>\u001b[0m in \u001b[0;36m<module>\u001b[0;34m()\u001b[0m\n\u001b[1;32m      1\u001b[0m \u001b[0;34m\u001b[0m\u001b[0m\n\u001b[0;32m----> 2\u001b[0;31m \u001b[0msuma\u001b[0m\u001b[0;34m(\u001b[0m\u001b[0;36m1\u001b[0m\u001b[0;34m,\u001b[0m\u001b[0;36m2\u001b[0m\u001b[0;34m)\u001b[0m\u001b[0;34m\u001b[0m\u001b[0;34m\u001b[0m\u001b[0m\n\u001b[0m",
            "\u001b[0;31mTypeError\u001b[0m: 'int' object is not callable"
          ]
        }
      ]
    },
    {
      "cell_type": "markdown",
      "metadata": {
        "id": "8Cey0guj2wFo"
      },
      "source": [
        "El uso de ** :\n",
        "El uso de el doble * nos primitetener como prametro de entrada una li9sta de elementos en forma de clave y valor. La forma de iterar sera usando el comando *item()*\n"
      ]
    },
    {
      "cell_type": "code",
      "metadata": {
        "colab": {
          "base_uri": "https://localhost:8080/"
        },
        "id": "MtGShWFQ3KLf",
        "outputId": "60ce2b7c-073a-4c4d-fe08-bdf99c34720e"
      },
      "source": [
        "def suma(**dado):\n",
        "  suma=0\n",
        "  for i,j in dado.items():\n",
        "    suma +=j\n",
        "    return suma\n",
        "suma(a=3, b=30, c=7)"
      ],
      "execution_count": 9,
      "outputs": [
        {
          "output_type": "execute_result",
          "data": {
            "text/plain": [
              "3"
            ]
          },
          "metadata": {
            "tags": []
          },
          "execution_count": 9
        }
      ]
    },
    {
      "cell_type": "markdown",
      "metadata": {
        "id": "cEiq9pv14VyG"
      },
      "source": [
        "**Ampliemos la definicion del comando Return**\n",
        "\n",
        "---\n",
        "1. devolver parametros.\n"
      ]
    },
    {
      "cell_type": "code",
      "metadata": {
        "colab": {
          "base_uri": "https://localhost:8080/",
          "height": 35
        },
        "id": "LVquXKBa4r2v",
        "outputId": "b0abfffb-628a-43e9-b740-271cb4fcb33a"
      },
      "source": [
        "def w():\n",
        "  return \"Hi\"\n",
        "w()"
      ],
      "execution_count": 8,
      "outputs": [
        {
          "output_type": "execute_result",
          "data": {
            "application/vnd.google.colaboratory.intrinsic+json": {
              "type": "string"
            },
            "text/plain": [
              "'Hi'"
            ]
          },
          "metadata": {
            "tags": []
          },
          "execution_count": 8
        }
      ]
    },
    {
      "cell_type": "markdown",
      "metadata": {
        "id": "TECLXl--5Kyu"
      },
      "source": [
        "2. Devolver varias variables."
      ]
    },
    {
      "cell_type": "code",
      "metadata": {
        "colab": {
          "base_uri": "https://localhost:8080/"
        },
        "id": "yQATC3TV5ObE",
        "outputId": "63fb655b-7004-4a71-c9f0-ab3583a2cf29"
      },
      "source": [
        "def sd(a,b,c):\n",
        "  q=a+b+c # declaracion de variable con una suma de argumentos\n",
        "  z = q/3 #declaracion de variable con el promedio\n",
        "  return q,z\n",
        "q,z=sd(2,4,6)\n",
        "print(q)\n",
        "print(z)"
      ],
      "execution_count": 12,
      "outputs": [
        {
          "output_type": "stream",
          "text": [
            "12\n",
            "4.0\n"
          ],
          "name": "stdout"
        }
      ]
    },
    {
      "cell_type": "markdown",
      "metadata": {
        "id": "H9P0emVB5-Tt"
      },
      "source": [
        "** Formas de hacer documentacion en programacion tipo bloques de codigo o linea **"
      ]
    },
    {
      "cell_type": "code",
      "metadata": {
        "colab": {
          "base_uri": "https://localhost:8080/"
        },
        "id": "hzLShkFy6S5f",
        "outputId": "f54d8665-1721-4069-d2e0-7eb16b18a57b"
      },
      "source": [
        "def paula(a,b):\n",
        "  \"\"\"\n",
        "  descripcion de la funcion, los parametrosque se van a usar, \n",
        "  explicar como se usa y que operaciones devuelve esta funcion\n",
        "  \"\"\"\n",
        "  return a+b \n",
        "paula(2,3)"
      ],
      "execution_count": 16,
      "outputs": [
        {
          "output_type": "execute_result",
          "data": {
            "text/plain": [
              "5"
            ]
          },
          "metadata": {
            "tags": []
          },
          "execution_count": 16
        }
      ]
    },
    {
      "cell_type": "code",
      "metadata": {
        "colab": {
          "base_uri": "https://localhost:8080/"
        },
        "id": "GXRt4lCe7Yti",
        "outputId": "89ac432d-6b1a-4cc8-a6c6-a634f296f3dc"
      },
      "source": [
        "help(paula)"
      ],
      "execution_count": 15,
      "outputs": [
        {
          "output_type": "stream",
          "text": [
            "Help on function paula in module __main__:\n",
            "\n",
            "paula(a, b)\n",
            "    descripcion de la funcion, los parametrosque se van a usar, \n",
            "    explicar como se usa y que operaciones devuelve esta funcion\n",
            "\n"
          ],
          "name": "stdout"
        }
      ]
    },
    {
      "cell_type": "code",
      "metadata": {
        "colab": {
          "base_uri": "https://localhost:8080/"
        },
        "id": "mxat29B07jyl",
        "outputId": "cd860495-6133-43f2-da88-97e3ac66f80a"
      },
      "source": [
        "print(paula.__doc__)# otra forma de llamar el comentario es print del nombre la la funcion seguido de punto seguido, doble guion bajo, escribir \"doc\" y seguido de dos guiones bajos"
      ],
      "execution_count": 17,
      "outputs": [
        {
          "output_type": "stream",
          "text": [
            "\n",
            "  descripcion de la funcion, los parametrosque se van a usar, \n",
            "  explicar como se usa y que operaciones devuelve esta funcion\n",
            "  \n"
          ],
          "name": "stdout"
        }
      ]
    },
    {
      "cell_type": "markdown",
      "metadata": {
        "id": "d9CRoQpc83zJ"
      },
      "source": [
        "**Diferencia entre valores y referencias**\n",
        "\n",
        "---\n",
        "Existen dos conceptos de paso por *valor* y por *referencia* que se aplican a la hora de tratar a los parametros de entrada de una funcion:\n",
        "\n",
        "1. sis e usa un parametro que pasa por valor, se fcrea una copia local de la variable, lo cual implica que cualquier modificacion sobre esta no tendra repercusion sobre la base original.\n",
        "\n",
        "2. Si se usa la variable pasa como referencia, si actuara directamenete sobre la base original\n"
      ]
    },
    {
      "cell_type": "code",
      "metadata": {
        "colab": {
          "base_uri": "https://localhost:8080/"
        },
        "id": "SWRoJ6kI9rA7",
        "outputId": "d1bfc6c7-816e-4e2f-f14f-e76dd7656a77"
      },
      "source": [
        "#ejemplode paso po **valor**\n",
        "\n",
        "x = 3\n",
        "def funcion(w):\n",
        "  w = 0\n",
        "funcion(x)\n",
        "print(x)"
      ],
      "execution_count": 21,
      "outputs": [
        {
          "output_type": "stream",
          "text": [
            "3\n"
          ],
          "name": "stdout"
        }
      ]
    },
    {
      "cell_type": "markdown",
      "metadata": {
        "id": "OcUH_uYr-d-e"
      },
      "source": [
        "1. inicio con x=3\n",
        "2. se lo pasamos a la funcion()\n",
        "3. Dentro de esta funcion hacemos que la variable valga cero.\n",
        "4. dado que pasa como valor, dentro de la funcion se crea una copia local de x. por lo cual, la variuable no se modifica"
      ]
    },
    {
      "cell_type": "code",
      "metadata": {
        "colab": {
          "base_uri": "https://localhost:8080/"
        },
        "id": "HseRGkVL_JHa",
        "outputId": "a2851c43-f248-4e88-b1f6-b7271733589f"
      },
      "source": [
        "##caso que se pasa por **Referencia**\n",
        "x = [3,6,9,12]\n",
        "def sw(tipo):\n",
        "  tipo.append(50)\n",
        "sw(x)\n",
        "print(x)"
      ],
      "execution_count": 22,
      "outputs": [
        {
          "output_type": "stream",
          "text": [
            "[3, 6, 9, 12, 50]\n"
          ],
          "name": "stdout"
        }
      ]
    },
    {
      "cell_type": "code",
      "metadata": {
        "id": "Az4FEjXR822T"
      },
      "source": [
        ""
      ],
      "execution_count": null,
      "outputs": []
    }
  ]
}