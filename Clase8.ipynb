{
  "nbformat": 4,
  "nbformat_minor": 0,
  "metadata": {
    "colab": {
      "name": "Clase8.ipynb",
      "provenance": [],
      "authorship_tag": "ABX9TyMfWVL0mQMj5rncvKARmZSI",
      "include_colab_link": true
    },
    "kernelspec": {
      "name": "python3",
      "display_name": "Python 3"
    },
    "language_info": {
      "name": "python"
    }
  },
  "cells": [
    {
      "cell_type": "markdown",
      "metadata": {
        "id": "view-in-github",
        "colab_type": "text"
      },
      "source": [
        "<a href=\"https://colab.research.google.com/github/yuliethbernal03/MDigitales/blob/main/Clase8.ipynb\" target=\"_parent\"><img src=\"https://colab.research.google.com/assets/colab-badge.svg\" alt=\"Open In Colab\"/></a>"
      ]
    },
    {
      "cell_type": "markdown",
      "metadata": {
        "id": "LIflIApj781S"
      },
      "source": [
        "**Ejercicio de practica**\n",
        "\n",
        "---\n",
        "Se les pide a la analista realizar una estimacion de poblacional a partir de informacion descriptiva reelevante sobre la poblacion de los paises en via de desarrollo.\n",
        "\n",
        "Para ello de inicio se solicita que se cree un programa que permita ingr5esar como prueba 10 paises y su respectiva poblacion e identifique que pais tiene la mayor cantidad de habitantes. \n"
      ]
    },
    {
      "cell_type": "code",
      "metadata": {
        "colab": {
          "base_uri": "https://localhost:8080/"
        },
        "id": "ggN04gl3BNSD",
        "outputId": "021678dc-395e-46ce-d2a3-cde8b9a9e13e"
      },
      "source": [
        "def poblacion():\n",
        "  pais=[]\n",
        "  \n",
        "  for x in range(3):\n",
        "    nombre=input(\"Ingrese el nombre del país: \")\n",
        "    cantidad=int(input(\"Ingrese la cantidad de habitantes: \"))\n",
        "    pais.append((nombre,cantidad))\n",
        "  return pais\n",
        "  \n",
        "def view(pais):\n",
        "  print(\"Habitantes por país: \")\n",
        "  for x in range(len(pais)):\n",
        "    print(pais[x][0], pais[x][1])\n",
        "\n",
        "def mayor(pais):\n",
        "  p=0\n",
        "  for x in range(1,len(pais)):\n",
        "    if pais[x][1]>pais[p][1]:\n",
        "      pos=x\n",
        "  print(\"El país con la mayor población registrada es:\", pais[pos][0]) #0 nombre 1 cantidad\n",
        "\n",
        "\n",
        "pais=poblacion()\n",
        "view(pais)\n",
        "mayor(pais)"
      ],
      "execution_count": 19,
      "outputs": [
        {
          "output_type": "stream",
          "text": [
            "Ingrese el nombre del paíscol\n",
            "Ingrese la cantidad de habitantes1\n",
            "Ingrese el nombre del paísecu\n",
            "Ingrese la cantidad de habitantes2\n",
            "Ingrese el nombre del paísfran\n",
            "Ingrese la cantidad de habitantes3\n",
            "Habitantes por país: \n",
            "col 1\n",
            "ecu 2\n",
            "fran 3\n",
            "El país con la mayor población registrada es: fran\n"
          ],
          "name": "stdout"
        }
      ]
    },
    {
      "cell_type": "code",
      "metadata": {
        "colab": {
          "base_uri": "https://localhost:8080/"
        },
        "id": "vb3H8rzhGoH0",
        "outputId": "b8845b23-9c4e-4132-eec7-5cea1a75b8ce"
      },
      "source": [
        "se=[1,10,7,9,3]\n",
        "sorted(se)\n"
      ],
      "execution_count": 18,
      "outputs": [
        {
          "output_type": "execute_result",
          "data": {
            "text/plain": [
              "[1, 3, 7, 9, 10]"
            ]
          },
          "metadata": {
            "tags": []
          },
          "execution_count": 18
        }
      ]
    },
    {
      "cell_type": "markdown",
      "metadata": {
        "id": "TFW0OBh98mQv"
      },
      "source": [
        "**Recordatorio**\n",
        "\n",
        "---\n",
        "\n"
      ]
    },
    {
      "cell_type": "code",
      "metadata": {
        "colab": {
          "base_uri": "https://localhost:8080/",
          "height": 233
        },
        "id": "PpREbfW18prH",
        "outputId": "f31e7682-1827-458a-90c2-a6cad4564af5"
      },
      "source": [
        "lcompras = list()\n",
        "\n",
        "while articulo != \" \":\n",
        "  articulo=input(\"¿Que productos se va a comprar? \")\n",
        "  lcompras.append(articulo)\n",
        "  \n",
        "print(lcompras)\n"
      ],
      "execution_count": 8,
      "outputs": [
        {
          "output_type": "error",
          "ename": "NameError",
          "evalue": "ignored",
          "traceback": [
            "\u001b[0;31m---------------------------------------------------------------------------\u001b[0m",
            "\u001b[0;31mNameError\u001b[0m                                 Traceback (most recent call last)",
            "\u001b[0;32m<ipython-input-8-27b935c33075>\u001b[0m in \u001b[0;36m<module>\u001b[0;34m()\u001b[0m\n\u001b[1;32m      1\u001b[0m \u001b[0mlcompras\u001b[0m \u001b[0;34m=\u001b[0m \u001b[0mlist\u001b[0m\u001b[0;34m(\u001b[0m\u001b[0;34m)\u001b[0m\u001b[0;34m\u001b[0m\u001b[0;34m\u001b[0m\u001b[0m\n\u001b[1;32m      2\u001b[0m \u001b[0;34m\u001b[0m\u001b[0m\n\u001b[0;32m----> 3\u001b[0;31m \u001b[0;32mwhile\u001b[0m \u001b[0marticulo\u001b[0m \u001b[0;34m!=\u001b[0m \u001b[0;34m\" \"\u001b[0m\u001b[0;34m:\u001b[0m\u001b[0;34m\u001b[0m\u001b[0;34m\u001b[0m\u001b[0m\n\u001b[0m\u001b[1;32m      4\u001b[0m   \u001b[0marticulo\u001b[0m\u001b[0;34m=\u001b[0m\u001b[0minput\u001b[0m\u001b[0;34m(\u001b[0m\u001b[0;34m\"¿Que productos se va a comprar? \"\u001b[0m\u001b[0;34m)\u001b[0m\u001b[0;34m\u001b[0m\u001b[0;34m\u001b[0m\u001b[0m\n\u001b[1;32m      5\u001b[0m   \u001b[0mlcompras\u001b[0m\u001b[0;34m.\u001b[0m\u001b[0mappend\u001b[0m\u001b[0;34m(\u001b[0m\u001b[0marticulo\u001b[0m\u001b[0;34m)\u001b[0m\u001b[0;34m\u001b[0m\u001b[0;34m\u001b[0m\u001b[0m\n",
            "\u001b[0;31mNameError\u001b[0m: name 'articulo' is not defined"
          ]
        }
      ]
    }
  ]
}