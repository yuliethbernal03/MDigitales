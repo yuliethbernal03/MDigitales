{
  "nbformat": 4,
  "nbformat_minor": 0,
  "metadata": {
    "colab": {
      "name": "TrabajoClase1.ipynb",
      "provenance": [],
      "authorship_tag": "ABX9TyM/XNDsavKJi/kKYt9z9yRx",
      "include_colab_link": true
    },
    "kernelspec": {
      "name": "python3",
      "display_name": "Python 3"
    },
    "language_info": {
      "name": "python"
    }
  },
  "cells": [
    {
      "cell_type": "markdown",
      "metadata": {
        "id": "view-in-github",
        "colab_type": "text"
      },
      "source": [
        "<a href=\"https://colab.research.google.com/github/yuliethbernal03/MDigitales/blob/main/TrabajoClase1.ipynb\" target=\"_parent\"><img src=\"https://colab.research.google.com/assets/colab-badge.svg\" alt=\"Open In Colab\"/></a>"
      ]
    },
    {
      "cell_type": "code",
      "metadata": {
        "id": "F-qy6VqlXs_D"
      },
      "source": [
        ""
      ],
      "execution_count": null,
      "outputs": []
    },
    {
      "cell_type": "markdown",
      "metadata": {
        "id": "FdWBihliX24t"
      },
      "source": [
        "Realizar 2 ejercicios por cada **Tipo de dato** visto en clase."
      ]
    },
    {
      "cell_type": "markdown",
      "metadata": {
        "id": "_LgLoVHbapId"
      },
      "source": [
        "**Tipo Enteros**\n",
        "_____\n",
        "**Int**\n"
      ]
    },
    {
      "cell_type": "markdown",
      "metadata": {
        "id": "UJZhbhvUdF8R"
      },
      "source": [
        "Suma de dos numeros"
      ]
    },
    {
      "cell_type": "code",
      "metadata": {
        "id": "B1z2pX3mgxPT"
      },
      "source": [
        ""
      ],
      "execution_count": null,
      "outputs": []
    },
    {
      "cell_type": "code",
      "metadata": {
        "colab": {
          "base_uri": "https://localhost:8080/"
        },
        "id": "42ds3oWWYDTX",
        "outputId": "60839c21-cff9-42bc-dbff-0000e3378bae"
      },
      "source": [
        "n1 = int(input(\"Ingrese el primer numero: \"))\n",
        "n2 = int(input(\"Ingrese el segundo numero: \"))\n",
        "print(\"la suma es: \",n1 + n2)"
      ],
      "execution_count": null,
      "outputs": [
        {
          "output_type": "stream",
          "text": [
            "Ingrese el primer numero: 2\n",
            "Ingrese el segundo numero: 4\n",
            "la suma es:  6\n"
          ],
          "name": "stdout"
        }
      ]
    },
    {
      "cell_type": "markdown",
      "metadata": {
        "id": "nCi6D4EedKdF"
      },
      "source": [
        "Multiplicacion de dos numeros"
      ]
    },
    {
      "cell_type": "code",
      "metadata": {
        "colab": {
          "base_uri": "https://localhost:8080/"
        },
        "id": "MObAwtOTbKMj",
        "outputId": "f0412343-c900-49c1-cd0f-9dffbe389387"
      },
      "source": [
        "n1 = int(input(\"Ingrese el primer numero: \"))\n",
        "n2 = int(input(\"Ingrese el segundo numero:\"))\n",
        "print(\"El resultado de la multiplicacion entre los dos numeros es: \",n1 * n2)"
      ],
      "execution_count": null,
      "outputs": [
        {
          "output_type": "stream",
          "text": [
            "Ingrese el primer numero: 5\n",
            "Ingrese el segundo numero:5\n",
            "El resultado de la multiplicacion entre los dos numeros es:  25\n"
          ],
          "name": "stdout"
        }
      ]
    },
    {
      "cell_type": "markdown",
      "metadata": {
        "id": "5GUYjQNLbBJK"
      },
      "source": [
        "**Float**"
      ]
    },
    {
      "cell_type": "markdown",
      "metadata": {
        "id": "-gPc_rGndQf4"
      },
      "source": [
        "Calculo de la media de dos numeros "
      ]
    },
    {
      "cell_type": "code",
      "metadata": {
        "colab": {
          "base_uri": "https://localhost:8080/"
        },
        "id": "VEBTJ9OSbHIx",
        "outputId": "888cbc8d-ba8e-42ad-ef05-b384f09c8903"
      },
      "source": [
        "n1 = float(input(\"Ingrese el primer numero:\" )) \n",
        "n2 = float(input(\"Ingrese el segundo numero: \"))\n",
        "print(\"la media de lops dos numeros es: \",(n1 + n2) / 2)"
      ],
      "execution_count": null,
      "outputs": [
        {
          "output_type": "stream",
          "text": [
            "Ingrese el primer numero:2.5\n",
            "Ingrese el segundo numero: 2.8\n",
            "la media de lops dos numeros es:  2.65\n"
          ],
          "name": "stdout"
        }
      ]
    },
    {
      "cell_type": "markdown",
      "metadata": {
        "id": "4wW0Ra8KeR5I"
      },
      "source": [
        "Calculo de indice de masa corporal"
      ]
    },
    {
      "cell_type": "code",
      "metadata": {
        "colab": {
          "base_uri": "https://localhost:8080/"
        },
        "id": "HrqFKnPreZc2",
        "outputId": "56715fe3-1c98-483f-84bd-e079e58d2da0"
      },
      "source": [
        "peso = float(input(\"Ingrese su peso: \"))\n",
        "altura = float(input(\"Ingrese su altura: \"))\n",
        "indice = peso / altura * 2\n",
        "print(\"Su indice de  masa corporal es: \",indice)"
      ],
      "execution_count": null,
      "outputs": [
        {
          "output_type": "stream",
          "text": [
            "Ingrese su peso: 80.5\n",
            "Ingrese su altura: 1.63\n",
            "Su indice de  masa corporal es:  98.77300613496934\n"
          ],
          "name": "stdout"
        }
      ]
    },
    {
      "cell_type": "markdown",
      "metadata": {
        "id": "7BNZUKJ2g_Ly"
      },
      "source": [
        "**Tipo Cadena**"
      ]
    },
    {
      "cell_type": "markdown",
      "metadata": {
        "id": "-hVsXkypiZPo"
      },
      "source": [
        "Saludo"
      ]
    },
    {
      "cell_type": "code",
      "metadata": {
        "colab": {
          "base_uri": "https://localhost:8080/"
        },
        "id": "uEP3B_KIhDLK",
        "outputId": "30259480-3ad2-424f-8e33-b6c42ccff06f"
      },
      "source": [
        "var1 = \"Hola\"\n",
        "var2 = input(\"Ingrese su nombre: \")\n",
        "print(var1 +\" \"+ var2)"
      ],
      "execution_count": null,
      "outputs": [
        {
          "output_type": "stream",
          "text": [
            "Ingrese su nombre: Yulieth\n",
            "Hola Yulieth\n"
          ],
          "name": "stdout"
        }
      ]
    },
    {
      "cell_type": "markdown",
      "metadata": {
        "id": "WXVbU36iidnv"
      },
      "source": [
        "Formas de escribir el nombre\n"
      ]
    },
    {
      "cell_type": "code",
      "metadata": {
        "colab": {
          "base_uri": "https://localhost:8080/"
        },
        "id": "lzCIZJNSimJ3",
        "outputId": "85af3fad-9a0f-4113-8e43-ba54ac751fba"
      },
      "source": [
        "nombre = input(\"Ingrese su nombre: \")\n",
        "print(nombre.lower())\n",
        "print(nombre.upper())\n",
        "print(nombre.title())"
      ],
      "execution_count": null,
      "outputs": [
        {
          "output_type": "stream",
          "text": [
            "Ingrese su nombre: yUliEth bERnal\n",
            "yulieth bernal\n",
            "YULIETH BERNAL\n",
            "Yulieth Bernal\n"
          ],
          "name": "stdout"
        }
      ]
    },
    {
      "cell_type": "markdown",
      "metadata": {
        "id": "FnjBm2Nhjw3n"
      },
      "source": [
        "**Tipo Booleano**"
      ]
    },
    {
      "cell_type": "markdown",
      "metadata": {
        "id": "S1aZIAZtTw3R"
      },
      "source": [
        "Operaciones"
      ]
    },
    {
      "cell_type": "code",
      "metadata": {
        "colab": {
          "base_uri": "https://localhost:8080/"
        },
        "id": "PzhiOvB1nE0n",
        "outputId": "d2ed9059-9d5f-4dc8-89d9-99f1771f727b"
      },
      "source": [
        "6==6\n",
        "\n"
      ],
      "execution_count": null,
      "outputs": [
        {
          "output_type": "execute_result",
          "data": {
            "text/plain": [
              "True"
            ]
          },
          "metadata": {
            "tags": []
          },
          "execution_count": 20
        }
      ]
    },
    {
      "cell_type": "code",
      "metadata": {
        "id": "QDJlPFpySKfP",
        "outputId": "2aa7c8a6-56cc-478c-a8c2-dd5c00b64bbd",
        "colab": {
          "base_uri": "https://localhost:8080/"
        }
      },
      "source": [
        "1 == 1 and 2 == 1"
      ],
      "execution_count": 1,
      "outputs": [
        {
          "output_type": "execute_result",
          "data": {
            "text/plain": [
              "False"
            ]
          },
          "metadata": {
            "tags": []
          },
          "execution_count": 1
        }
      ]
    },
    {
      "cell_type": "markdown",
      "metadata": {
        "id": "VC_DGa-CSto6"
      },
      "source": [
        "**Tipo conjuntos**"
      ]
    },
    {
      "cell_type": "markdown",
      "metadata": {
        "id": "VPUs1aWFTzzx"
      },
      "source": [
        "Nombres y apellidos"
      ]
    },
    {
      "cell_type": "code",
      "metadata": {
        "id": "PRA-q2teVDKK"
      },
      "source": [
        "nombres = 'Juan','Pedro','Pilar','Ingrid'\n",
        "apellidos = 'Gutierrez','Gonzalez','Campo','Jimenez'\n",
        "print(nombres, apellidos)"
      ],
      "execution_count": null,
      "outputs": []
    },
    {
      "cell_type": "markdown",
      "metadata": {
        "id": "EcxhCgQXW4WW"
      },
      "source": [
        "Ciudades y departamentos"
      ]
    },
    {
      "cell_type": "code",
      "metadata": {
        "id": "GWDzRYbuWlkL",
        "outputId": "1fbb87e4-1eba-4caf-a95d-91f4dc8b42c9",
        "colab": {
          "base_uri": "https://localhost:8080/"
        }
      },
      "source": [
        "ciudades = 'Cali','Popayan'\n",
        "departamentos = 'Valle del cauca','Cauca'\n",
        "print(ciudades, departamentos)"
      ],
      "execution_count": 9,
      "outputs": [
        {
          "output_type": "stream",
          "text": [
            "('Cali', 'Popayan') ('Valle del cauca', 'Cauca')\n"
          ],
          "name": "stdout"
        }
      ]
    },
    {
      "cell_type": "markdown",
      "metadata": {
        "id": "C0a8pB19W_nf"
      },
      "source": [
        "**Tipo Listas**"
      ]
    },
    {
      "cell_type": "markdown",
      "metadata": {
        "id": "EIgIXJDyT2Xb"
      },
      "source": [
        "Animales terrestre y acuaticos"
      ]
    },
    {
      "cell_type": "code",
      "metadata": {
        "id": "zaWSgl-PTrsA",
        "outputId": "7be8310f-29cd-4ae2-aaf6-79344b48d43e",
        "colab": {
          "base_uri": "https://localhost:8080/"
        }
      },
      "source": [
        "terrestres = ['Perro','Gato','Conejo']\n",
        "acuaticos = ['Pulpo','Tiburon','Tortuga']\n",
        "num=terrestres[0:3]\n",
        "print(\"Animales terrestres: \",num)\n",
        "num1=acuaticos[1:3]\n",
        "print(\"Animales acuaticos: \",num1)"
      ],
      "execution_count": 14,
      "outputs": [
        {
          "output_type": "stream",
          "text": [
            "Animales terrestres:  ['Perro', 'Gato', 'Conejo']\n",
            "Animales acuaticos:  ['Tiburon', 'Tortuga']\n"
          ],
          "name": "stdout"
        }
      ]
    },
    {
      "cell_type": "markdown",
      "metadata": {
        "id": "dlERfm5AYgxx"
      },
      "source": [
        "Marcas"
      ]
    },
    {
      "cell_type": "code",
      "metadata": {
        "id": "7qPaymlvX1DI",
        "outputId": "72273c9a-d463-4692-ea0b-0d0a1440cac2",
        "colab": {
          "base_uri": "https://localhost:8080/"
        }
      },
      "source": [
        "Marcas = ['Vogue','Luis Vuitoon','Nike']\n",
        "num=Marcas[2:3]\n",
        "print(\"Marcas: \",num)"
      ],
      "execution_count": 15,
      "outputs": [
        {
          "output_type": "stream",
          "text": [
            "Marcas:  ['Nike']\n"
          ],
          "name": "stdout"
        }
      ]
    },
    {
      "cell_type": "markdown",
      "metadata": {
        "id": "-5-Z2tAwci_t"
      },
      "source": [
        "**Tipo tuplas**"
      ]
    },
    {
      "cell_type": "markdown",
      "metadata": {
        "id": "ioQNNU3FcoSs"
      },
      "source": [
        "fecha y nombre"
      ]
    },
    {
      "cell_type": "code",
      "metadata": {
        "id": "ZLbyaeEjc1fN",
        "outputId": "4a852c4e-4ca5-4a52-c6b0-868271b743f9",
        "colab": {
          "base_uri": "https://localhost:8080/"
        }
      },
      "source": [
        "fecha = (4, \"Agosto\",2021)\n",
        "persona = 'Dejesus','Yulieth'\n",
        "print(fecha,\" \",persona)"
      ],
      "execution_count": 19,
      "outputs": [
        {
          "output_type": "stream",
          "text": [
            "(4, 'Agosto', 2021)   ('Dejesus', 'Yulieth')\n"
          ],
          "name": "stdout"
        }
      ]
    },
    {
      "cell_type": "markdown",
      "metadata": {
        "id": "koDsupmAk-t0"
      },
      "source": [
        "edad y nombre"
      ]
    },
    {
      "cell_type": "code",
      "metadata": {
        "id": "3sDcQf79lQUs",
        "outputId": "35907662-620b-48cf-dd6f-bf51779d5b60",
        "colab": {
          "base_uri": "https://localhost:8080/"
        }
      },
      "source": [
        "edad = 18\n",
        "nombre = 'Yulieth Bernal'\n",
        "print(nombre, edad)"
      ],
      "execution_count": 20,
      "outputs": [
        {
          "output_type": "stream",
          "text": [
            "Yulieth Bernal 18\n"
          ],
          "name": "stdout"
        }
      ]
    },
    {
      "cell_type": "markdown",
      "metadata": {
        "id": "Hxg1_VDJloFU"
      },
      "source": [
        "**Tipo diccionarios**"
      ]
    },
    {
      "cell_type": "markdown",
      "metadata": {
        "id": "6FfBxF6nlsUE"
      },
      "source": [
        "Mascota"
      ]
    },
    {
      "cell_type": "code",
      "metadata": {
        "id": "LceGRs4xluhT",
        "outputId": "02754b18-2955-4b0c-9c02-de6ff8af6100",
        "colab": {
          "base_uri": "https://localhost:8080/"
        }
      },
      "source": [
        "mascota_0={}\n",
        "mascota_0['nombre']='Tita'\n",
        "mascota_0['color']='negro y amarillo'\n",
        "mascota_0['edad']='12 años'\n",
        "mascota_0['tipo']='perro'\n",
        "\n",
        "mascota_1={}\n",
        "mascota_1['nombre']='Simon'\n",
        "mascota_1['color']='blanco y cafe'\n",
        "mascota_1['edad']='2 años'\n",
        "mascota_1['tipo']='perro'\n",
        "print(mascota_0)\n",
        "print(mascota_1)"
      ],
      "execution_count": 21,
      "outputs": [
        {
          "output_type": "stream",
          "text": [
            "{'nombre': 'Tita', 'color': 'negro y amarillo', 'edad': '12 años', 'tipo': 'perro'}\n",
            "{'nombre': 'Simon', 'color': 'blanco y cafe', 'edad': '2 años', 'tipo': 'perro'}\n"
          ],
          "name": "stdout"
        }
      ]
    },
    {
      "cell_type": "markdown",
      "metadata": {
        "id": "CcK1KEhTmwnO"
      },
      "source": [
        "casa\n"
      ]
    },
    {
      "cell_type": "code",
      "metadata": {
        "id": "soMAXlUFmysW",
        "outputId": "65b0ad83-8713-42c9-f4d4-bcea821430a5",
        "colab": {
          "base_uri": "https://localhost:8080/"
        }
      },
      "source": [
        "casa_0={}\n",
        "casa_0['numero de puertas']='7'\n",
        "casa_0['numero de ventanas']='5'\n",
        "casa_0['color']='blanco'\n",
        "casa_0['baños']='1'\n",
        "casa_0['habitaciones']='5'\n",
        "\n",
        "print(casa_0)\n"
      ],
      "execution_count": 22,
      "outputs": [
        {
          "output_type": "stream",
          "text": [
            "{'numero de puertas': '7', 'numero de ventanas': '5', 'color': 'blanco', 'baños': '1', 'habitaciones': '5'}\n"
          ],
          "name": "stdout"
        }
      ]
    }
  ]
}
