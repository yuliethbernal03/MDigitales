{
  "nbformat": 4,
  "nbformat_minor": 0,
  "metadata": {
    "colab": {
      "name": "Clase6.ipynb",
      "provenance": [],
      "authorship_tag": "ABX9TyMecDZlWKZkUTeBhrpTOIqw",
      "include_colab_link": true
    },
    "kernelspec": {
      "name": "python3",
      "display_name": "Python 3"
    },
    "language_info": {
      "name": "python"
    }
  },
  "cells": [
    {
      "cell_type": "markdown",
      "metadata": {
        "id": "view-in-github",
        "colab_type": "text"
      },
      "source": [
        "<a href=\"https://colab.research.google.com/github/yuliethbernal03/MDigitales/blob/main/Clase6.ipynb\" target=\"_parent\"><img src=\"https://colab.research.google.com/assets/colab-badge.svg\" alt=\"Open In Colab\"/></a>"
      ]
    },
    {
      "cell_type": "markdown",
      "metadata": {
        "id": "OeoHVoXQomqN"
      },
      "source": [
        "**CONTINUACIÓN DE LOS EJEMPLOS DE USO DE LISTA DE COMPRENSIÓN**\n",
        "\n",
        "---\n",
        "*COMPRESIÓN DE CONJUNTOS*\n",
        "\n",
        "---\n",
        "\n",
        "La comprensión de conjuntos es muy similar a la que veniamos manejando con Lista. La única diferencia es que se usa los {}\n",
        "\n",
        "Recordemos que los conjuntos, también denominados *sets* no permiten dupliados, es decir, cada elemento es único. Si se llega a añadir en elemento repetido, no arrojará error, pero no se mostrará en el print.\n"
      ]
    },
    {
      "cell_type": "code",
      "metadata": {
        "colab": {
          "base_uri": "https://localhost:8080/"
        },
        "id": "B7ZM0gVUpyjn",
        "outputId": "56ea9dca-4765-4a15-cb83-3ee20c228b71"
      },
      "source": [
        "sa=\"ema ama a mama\"\n",
        "sa2={i for i in sa if i==\"m\"}\n",
        "print(sa2)"
      ],
      "execution_count": null,
      "outputs": [
        {
          "output_type": "stream",
          "text": [
            "{'m'}\n"
          ],
          "name": "stdout"
        }
      ]
    },
    {
      "cell_type": "markdown",
      "metadata": {
        "id": "aBuXC9H-qigu"
      },
      "source": [
        "Ahora, veámos a continuación el caso de dictionarios de comprensión. La punica diferencia que tiene respecto a las listas o conjuntos de comprensión es la especificación de llaves o claves(key)."
      ]
    },
    {
      "cell_type": "code",
      "metadata": {
        "id": "OwP43XZcq5ba"
      },
      "source": [
        "lista1=['nombre', 'apellido', 'ciudad']\n",
        "lista2=['Ana', 'Rodriguez', 'Popayan']\n",
        "\n",
        "dic={i:j for i,j in zip(lista1, lista2)}\n",
        "print(dic)"
      ],
      "execution_count": null,
      "outputs": []
    },
    {
      "cell_type": "markdown",
      "metadata": {
        "id": "U8fKqQqSqWC6"
      },
      "source": [
        "**NOTA**\n",
        "\n",
        "Podemos observar que añadiendo  : asignamos un valor a la llave declarada, a su vez, usamos zip() el cual tiene como función iterar dos listas en paralelo. Es decir, con zip, podemos convertir dos listas en un diccionario y el for, se manejaria iterando dos valores en simultaneo."
      ]
    },
    {
      "cell_type": "markdown",
      "metadata": {
        "id": "Op0wN9wvqa4T"
      },
      "source": [
        "**OTRAS ESTRUCTURAS DE CONTROL**\n",
        "\n",
        "---\n",
        "\n",
        "1. Switch\n",
        "2. Brak.\n",
        "3. Continue\n",
        "4. Complemento de iteración (Enumerate)\n",
        "\n",
        "**1. Switch**\n",
        "\n",
        "El Switch, es una herramienta que permite ejecutar diferentes secciones de código, dependeiendo de las condiciones impustas.\n",
        "Su función, es muy similar *if anidados o varios por separado al mismo tiempo*.\n",
        "\n",
        "Sin embargo, en Python no hay un switch directo.\n",
        "\n",
        "---\n",
        "\n",
        "**2. Break**\n",
        "\n",
        "Nos permite alterar el comportamiento de los ciclos *while* y *for*. Directamente su función, es la de finalizar los ciclos"
      ]
    },
    {
      "cell_type": "code",
      "metadata": {
        "id": "GKbDfKs3xfaz"
      },
      "source": [
        "x=\"Andrea\" # sin break va a generar error\n",
        "for i in x:\n",
        "  if i==\"e\":\n",
        "    print(\"se obtuvo la letra e\")\n",
        "  break\n",
        "print(i)"
      ],
      "execution_count": null,
      "outputs": []
    },
    {
      "cell_type": "code",
      "metadata": {
        "id": "uzOfnjdSqi95"
      },
      "source": [
        "x=15 #generar valor en una variable tipo numerico entero, de ahí aplicamos el ciclo de while... mientras llegemos a este punto de que este número sea verdadero.. quieor que se me genere el siguiente número\n",
        "while True: \n",
        "  x -=1\n",
        "  print(x)\n",
        "  if x==0:\n",
        "    break\n",
        "print(\"se finaliza ciclo\")"
      ],
      "execution_count": null,
      "outputs": []
    },
    {
      "cell_type": "code",
      "metadata": {
        "id": "ekQMLzE-qmwo"
      },
      "source": [
        "#mezcla del uso de break con bucles anidados\n",
        "\n",
        "for i in range(1,8):\n",
        "  for j in range(1,8):\n",
        "    break\n",
        "  print(i,j)\n",
        "\n",
        "  #El break no afecta el *for* exterior, rompre el ciclo anidado en su conjunto\n",
        "  # Pero no afecta direcamente el ciclo exterior"
      ],
      "execution_count": null,
      "outputs": []
    },
    {
      "cell_type": "markdown",
      "metadata": {
        "id": "KRhqzLmfyD90"
      },
      "source": [
        "**2. CONTINUE**\n",
        "\n",
        "---\n",
        "\n",
        "El *continue* se salta too el código restante en la iteración actual y vuelve al principio en caso que quede elementos por iterar.\n",
        "\n",
        "Diferencias entre break y continue:\n",
        "La principal diferencia es que el continue no rompe el ciclo, sino que pasa a la iteración pendiente.\n"
      ]
    },
    {
      "cell_type": "code",
      "metadata": {
        "colab": {
          "base_uri": "https://localhost:8080/"
        },
        "id": "rNq12LgHysCg",
        "outputId": "128e5e6e-e3d3-4cd4-c7cb-e130fcfb734d"
      },
      "source": [
        "x = \"andrea\"\n",
        "for i in x:\n",
        "  if i==\"r\":\n",
        "    continue\n",
        "  print(i)"
      ],
      "execution_count": null,
      "outputs": [
        {
          "output_type": "stream",
          "text": [
            "a\n",
            "n\n",
            "d\n",
            "e\n",
            "a\n"
          ],
          "name": "stdout"
        }
      ]
    },
    {
      "cell_type": "markdown",
      "metadata": {
        "id": "-J-Pf8W3q53B"
      },
      "source": [
        "**Iterar con enumerate**\n",
        "\n",
        "---\n",
        "Pytgon nos permite iterra coleciciones de objetos y elementos de la misma forma. \n",
        "Sin embargo, hay una opción que es que en algunas situaciones que queramos acceder a un elemento ordenado podemos hacerlo, nombrandoi el indice de cada elemento ordenado podemos hacerlo nombrando el índice de cada elemento llamado"
      ]
    },
    {
      "cell_type": "code",
      "metadata": {
        "colab": {
          "base_uri": "https://localhost:8080/"
        },
        "id": "BVJLVWrmzFk9",
        "outputId": "4dc68b56-be6b-4a46-b553-cba66f00656d"
      },
      "source": [
        "w=[\"sa\", \"se\", \"si\", \"so\", \"su\"]\n",
        "indice=1\n",
        "for i in w:\n",
        " print(indice,i)\n",
        " indice +=1\n",
        " "
      ],
      "execution_count": null,
      "outputs": [
        {
          "output_type": "stream",
          "text": [
            "14\n",
            "13\n",
            "12\n",
            "11\n",
            "10\n",
            "9\n",
            "8\n",
            "7\n",
            "6\n",
            "5\n",
            "4\n",
            "2\n",
            "1\n",
            "0\n"
          ],
          "name": "stdout"
        }
      ]
    },
    {
      "cell_type": "code",
      "metadata": {
        "id": "VDNo-D7erAYW"
      },
      "source": [
        "w=[\"sa\", \"se\", \"si\", \"so\", \"su\"]\n",
        "for indice, i in enumerate(w):\n",
        "  print(indice,i)\n",
        "\n",
        "x=list(enumerate(w))\n",
        "print(x)"
      ],
      "execution_count": null,
      "outputs": []
    },
    {
      "cell_type": "markdown",
      "metadata": {
        "id": "kfyWBuF1rEET"
      },
      "source": [
        "**Uso zip()**\n",
        "#la función directa de conversión e tuplas\n",
        "---\n",
        "\n",
        "Si pasamos dos listas a *zip*, ek resultado será una tupla en donde cada elemento tendrá á todos y cada un o de los elementos de las entradas"
      ]
    },
    {
      "cell_type": "code",
      "metadata": {
        "colab": {
          "base_uri": "https://localhost:8080/"
        },
        "id": "K8eJ-Q20rImB",
        "outputId": "8e62743a-ee16-454d-b6a9-a91617a7b558"
      },
      "source": [
        "a=[1,2,3]\n",
        "b=[\"a\",\"b\",\"c\"]\n",
        "c=zip(a,b)\n",
        "print(list(c)) # para ver la lista toca poner list sino solo me va avisar que es de tipo zip\n"
      ],
      "execution_count": 1,
      "outputs": [
        {
          "output_type": "stream",
          "text": [
            "[(1, 'a'), (2, 'b'), (3, 'c')]\n"
          ],
          "name": "stdout"
        }
      ]
    },
    {
      "cell_type": "code",
      "metadata": {
        "id": "ccBV9vyyrLXH"
      },
      "source": [
        "\n",
        "a=[1,2,3]\n",
        "b=[\"a\",\"b\",\"c\"]\n",
        "for i,j in  zip(a,b):\n",
        "  print=(\"Numero\", i, \"letras\", j)"
      ],
      "execution_count": null,
      "outputs": []
    },
    {
      "cell_type": "code",
      "metadata": {
        "id": "JmljNi8UrOKH"
      },
      "source": [
        "a=[1,2,3]\n",
        "b=[\"a\",\"b\",\"c\"]\n",
        "x=(\"q\",\"w\",\"e\")\n",
        "z=(10,20,30)\n",
        "for lu,la,le,li in zip(a,b,  x,z):\n",
        " print(lu,la,le,li)"
      ],
      "execution_count": null,
      "outputs": []
    },
    {
      "cell_type": "code",
      "metadata": {
        "id": "6H5hK7QFt1-y"
      },
      "source": [
        "\n",
        "a=[1,2,6]\n",
        "b=[\"a\",\"b\"]\n",
        "\n",
        "for sa,se in zip(a,b):\n",
        " print(sa, se)"
      ],
      "execution_count": null,
      "outputs": []
    },
    {
      "cell_type": "code",
      "metadata": {
        "id": "-SyJSf3nt3-l"
      },
      "source": [
        "\n",
        "c=[(1,\"a\"),(2,\"b\"),(3,'c')]\n",
        "a,b=zip(*c)\n",
        "print(a)\n",
        "print(b)"
      ],
      "execution_count": null,
      "outputs": []
    },
    {
      "cell_type": "markdown",
      "metadata": {
        "id": "lSYUp58rrSDx"
      },
      "source": [
        "**FUNCIONES**\n",
        "\n",
        "---\n",
        "\n",
        "La función nos permite ordenar de manera adecuada la generación de variables de objetos y bloques de código por ciclos y demás estructura.\n",
        "\n",
        "---\n",
        "La sintaxis, es la siguiente:\n",
        "\n",
        "*def* nombre_funcion(argumentos):          bloque de código\n",
        "nombre_funcion(argumentos2)\n",
        "\n",
        "---\n",
        "\n",
        "arguemntos=el la cantidad de elemntos que vamos a considerar\n"
      ]
    },
    {
      "cell_type": "code",
      "metadata": {
        "id": "qNdhb9fqrVfB"
      },
      "source": [
        "def f(a):  # en lugra de f, puedo poner lo que yo quiera\n",
        "  return 2*a\n",
        "y=f(3)\n",
        "print(y)"
      ],
      "execution_count": null,
      "outputs": []
    },
    {
      "cell_type": "markdown",
      "metadata": {
        "id": "ctFs5p8drX0m"
      },
      "source": [
        "Las funciones no sólo realizan una operación de sus entradas (argumentos de inicio), sino también de los siguientes principios:\n",
        "\n",
        "**1. Reusabilidad:** Si tenemos un fragmento de código usado en muchos sitios,y se guarda en una función. Nos evitará tener códigos repetidos, además de la conveniencia que tiene por ser facilmente editable.\n",
        "\n",
        "**2. Modularidad:** Permite legibilidad de forma más sencilla, es decir, los largos bloques de código se pueden agrupar en módulos o funciones y la lectura va a ser mucho más sencilla.\n"
      ]
    },
    {
      "cell_type": "code",
      "metadata": {
        "id": "igfjP0zzreRB"
      },
      "source": [
        "#Ejemplo 1: Función SIN argumentos de entrada ni parametros de salida:\n",
        "\n",
        "def s():\n",
        "  print(\"hi lorena\") # hasta aqui DECLARCIÓN DE LA FUNCIÓN sale chulito verde al ejecutarla\n",
        "s() #Al cerrar la definición de función me va aparecer la ejecución del código"
      ],
      "execution_count": null,
      "outputs": []
    },
    {
      "cell_type": "code",
      "metadata": {
        "id": "_qUFLJG9rgLz"
      },
      "source": [
        "#Ejemplo 2: incluir ARGUMENTOS de entrada\n",
        "\n",
        "def s(apellido):\n",
        "  print(\"Hola Lorena\", apellido) #apelllido no tiene valor alguno\n",
        "s(\"Argote Sanchez\") #cuando se cierrar la funcion le doy un valor de salida"
      ],
      "execution_count": null,
      "outputs": []
    },
    {
      "cell_type": "code",
      "metadata": {
        "id": "Zy-du5lWrkxj"
      },
      "source": [
        "#Ejemplo 3: Usando DOS ARGUMENTOS de entrada y salida y operación aritmetica\n",
        "\n",
        "def suma(a,b):\n",
        "  return a+b #para no hacer declaracion y creacion de objetos de variables se usa asi el return\n",
        "suma(3,5)"
      ],
      "execution_count": null,
      "outputs": []
    },
    {
      "cell_type": "code",
      "metadata": {
        "id": "OjjKuymSrnfO"
      },
      "source": [
        "#Error porque no me da dos argumentos de salida. debe ser igual #argumentos_entrada= #argumentos_salida\n",
        "def suma(a,b):\n",
        "  return a+b #para no hacer declaracion y creacion de objetos de variables se usa asi el return\n",
        "suma(3)"
      ],
      "execution_count": null,
      "outputs": []
    },
    {
      "cell_type": "code",
      "metadata": {
        "id": "d555v3b2rpy6"
      },
      "source": [
        "#Ejemplo 4: Reusabilidad del código\n",
        "suma(a=5, b=25)   # se esta llamando la funcion suma"
      ],
      "execution_count": null,
      "outputs": []
    },
    {
      "cell_type": "code",
      "metadata": {
        "id": "4aNed3d4ruDN"
      },
      "source": [
        "#Ejemplo 5: Argumentos FIJOS desde el inicio\n",
        "\n",
        "def suma(a,b,c,d=1):\n",
        "  return a+b+c+d\n",
        "suma(2,3,4)\n"
      ],
      "execution_count": null,
      "outputs": []
    },
    {
      "cell_type": "code",
      "metadata": {
        "id": "ifwUv-QCrvCc"
      },
      "source": [
        "suma(5,6,7,8) #Llamando la funcion del ejercicio 5"
      ],
      "execution_count": null,
      "outputs": []
    },
    {
      "cell_type": "code",
      "metadata": {
        "id": "A1RMTd_urzk6"
      },
      "source": [
        "def suma(a=2,b=3, c=4,d=5): #Desde el inicio ya estaban declarados\n",
        "  return a+b+c+d\n",
        "suma()\n",
        "\n",
        "suma(1) #me lo cambia en a\n",
        "\n",
        "suma(1,5) #me cambia los valroes de a y b\n",
        "\n",
        "suma(a=1, c=5) #me modifica valores a y c"
      ],
      "execution_count": null,
      "outputs": []
    },
    {
      "cell_type": "code",
      "metadata": {
        "id": "nAzQPveau1l9"
      },
      "source": [
        "#*Ejemplo 6: Argumentos de longitud variable\n",
        "\n",
        "def suma(number): #usa suma ejercicio anterior\n",
        "  total=0\n",
        "  for i in number:\n",
        "    total +=i\n",
        "  return total\n",
        "suma([1,3,5,4])"
      ],
      "execution_count": null,
      "outputs": []
    },
    {
      "cell_type": "markdown",
      "metadata": {
        "id": "Q2IygBPVr55w"
      },
      "source": [
        "Nota: Se realizo la suma de rodos los números de entrada. Para ellos la declaración de los argumentos de salida, sería como una lista.\n",
        "\n",
        "1. La forma de sintaxis anterior es válida, sin embargo, tebemos un solo argumento que llamamos number, que es una lista de números.\n",
        "\n",
        "Si declaramos un argumento con *, esto hará que el argumento sea guardado como tupla de manera automática."
      ]
    },
    {
      "cell_type": "code",
      "metadata": {
        "id": "niUBdnXDr829"
      },
      "source": [
        "def suma(*number):\n",
        "  print(type(number))\n",
        "  total=0\n",
        "  for i in number:\n",
        "    total+=i\n",
        "  return total\n",
        "suma(2,3,5,4)"
      ],
      "execution_count": null,
      "outputs": []
    }
  ]
}