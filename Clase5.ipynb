{
  "nbformat": 4,
  "nbformat_minor": 0,
  "metadata": {
    "colab": {
      "name": "Clase5.ipynb",
      "provenance": [],
      "authorship_tag": "ABX9TyNlOOPNn0oS1oEto3RzQbf4",
      "include_colab_link": true
    },
    "kernelspec": {
      "name": "python3",
      "display_name": "Python 3"
    },
    "language_info": {
      "name": "python"
    }
  },
  "cells": [
    {
      "cell_type": "markdown",
      "metadata": {
        "id": "view-in-github",
        "colab_type": "text"
      },
      "source": [
        "<a href=\"https://colab.research.google.com/github/yuliethbernal03/MDigitales/blob/main/Clase5.ipynb\" target=\"_parent\"><img src=\"https://colab.research.google.com/assets/colab-badge.svg\" alt=\"Open In Colab\"/></a>"
      ]
    },
    {
      "cell_type": "markdown",
      "metadata": {
        "id": "sQwhn8q4ue7k"
      },
      "source": [
        ""
      ]
    },
    {
      "cell_type": "code",
      "metadata": {
        "id": "SgoNF_4rufRp"
      },
      "source": [
        ""
      ],
      "execution_count": null,
      "outputs": []
    },
    {
      "cell_type": "markdown",
      "metadata": {
        "id": "wLJnXTI-uhw-"
      },
      "source": [
        "*#for (variable) in (iterable): *#(Bloque codigo)\n",
        "Algunos ejemplos de iterables en python son las listas, cadenas, diccionarios, tuplas, etc.\n",
        "¿Como saber que iterable a la hora de programar? \n",
        "\n",
        "podemos darnos cuenta quees iterable usando laf funcion isinstance()."
      ]
    },
    {
      "cell_type": "code",
      "metadata": {
        "id": "lOTLNDQrvImk"
      },
      "source": [
        "from collections import iterable\n",
        "lista = [1,2,3,4,5,6,7,8,9,0]\n",
        "a = \"Computador\"\n",
        "b = 14\n",
        "print(isinstance(lista,Iterable))\n",
        "print(isinstance(lista,Iterable))\n",
        "print(isinstance(lista,Iterable))\n"
      ],
      "execution_count": null,
      "outputs": []
    },
    {
      "cell_type": "markdown",
      "metadata": {
        "id": "B8kgZ6Gvui7X"
      },
      "source": [
        "para entender los iteradores, es importante conocer la funcion *iter()*,\n",
        "esta funcion  puede ser llamada sobre un objeto que sea iterable, y nos devolvera un iterador.\n",
        "\n",
        "Ejemplo:"
      ]
    },
    {
      "cell_type": "code",
      "metadata": {
        "id": "7hmIoBK6wKsa"
      },
      "source": [
        "lista[1,2,3,4,5,6,7,8,9,0]\n",
        "ref = iter(lista)\n",
        "print(type(ref))"
      ],
      "execution_count": null,
      "outputs": []
    },
    {
      "cell_type": "markdown",
      "metadata": {
        "id": "0ldMB_Ndwc8s"
      },
      "source": [
        "al imprimir es un iterador de la clase *list_iterador* hace referencia a la lista original y nos permite acceder a sus elementos y nos permite acceder a sus elementos con la funcion *next()*.\n",
        "\n",
        "** Nota: ** cada vez que llamemos a next() sobre Ref, nos devuelve el siguiente elemento de la lista original.\n",
        "\n",
        "si por ejemplo quiero acceder al elemento 7, tendremos que llamar 7 veces a next().\n"
      ]
    },
    {
      "cell_type": "code",
      "metadata": {
        "colab": {
          "base_uri": "https://localhost:8080/"
        },
        "id": "_e-HFXp-wuq5",
        "outputId": "86ef7748-d568-4647-8d15-aeb2aacf1a21"
      },
      "source": [
        "lista = [1,2,3,4,5,6,7,8,9,0]\n",
        "ref = iter(lista)\n",
        "print(next(ref))\n",
        "print(next(ref))\n",
        "print(next(ref))\n",
        "print(next(ref))"
      ],
      "execution_count": 3,
      "outputs": [
        {
          "output_type": "stream",
          "text": [
            "1\n",
            "2\n",
            "3\n",
            "4\n"
          ],
          "name": "stdout"
        }
      ]
    },
    {
      "cell_type": "markdown",
      "metadata": {
        "id": "EYw3g7-vxgwV"
      },
      "source": [
        "**Tener en cuenta**\n",
        "\n",
        "Exsten otros iteradores para las diferentes clases:\n",
        "1. str_iterador para cadenas.\n",
        "2. list_iterador para listas.\n",
        "3. set_iterador para conjuntos.\n",
        "4. dict_keyiterador para diccionarios.\n",
        "\n"
      ]
    },
    {
      "cell_type": "markdown",
      "metadata": {
        "id": "HiOvViCtyAo1"
      },
      "source": [
        "**For anidados**\n",
        "\n",
        "---\n",
        "Es posible aidar los for, es decir ingresar uno dentro del otro , como los vemos a continuacion.\n"
      ]
    },
    {
      "cell_type": "code",
      "metadata": {
        "colab": {
          "base_uri": "https://localhost:8080/"
        },
        "id": "Z1YqKtOnyWvK",
        "outputId": "b9038e5e-16b6-4d4e-aef5-8e71e8acbd42"
      },
      "source": [
        "#vamos a crear una lista de listas, lo cual conforma una especie de la matriz\n",
        "#Recordemos que una matriz se compone de valores que se distribuyen en filas y columnas.\n",
        "\n",
        "qa = [[1,2,3],[4,5,6],[7,8,9]]\n",
        "\n",
        "for i in qa:\n",
        "  print(i)\n",
        "\n",
        "for i in qa:\n",
        "  print(i)\n",
        "  for j in i:\n",
        "    print(j)"
      ],
      "execution_count": 7,
      "outputs": [
        {
          "output_type": "stream",
          "text": [
            "[1, 2, 3]\n",
            "[4, 5, 6]\n",
            "[7, 8, 9]\n",
            "[1, 2, 3]\n",
            "1\n",
            "2\n",
            "3\n",
            "[4, 5, 6]\n",
            "4\n",
            "5\n",
            "6\n",
            "[7, 8, 9]\n",
            "7\n",
            "8\n",
            "9\n"
          ],
          "name": "stdout"
        }
      ]
    },
    {
      "cell_type": "markdown",
      "metadata": {
        "id": "mGZxXBnPzgCB"
      },
      "source": [
        "si deseamos acceder a cada elemento individualmente, se procede a realizar un bucle de FOR anidado. es decir, un for se encarga de iterar columnas y el otro en filas."
      ]
    },
    {
      "cell_type": "code",
      "metadata": {
        "colab": {
          "base_uri": "https://localhost:8080/"
        },
        "id": "4uOkCYQYx9rP",
        "outputId": "85004869-0bfa-4b18-b2ac-ca5dabe7da4a"
      },
      "source": [
        "#otra forma de utilizar solo el for, es la itertacion al reves. es decir se puede iterar la lista desde el ultimo al primer elemento\n",
        "\n",
        "lista = [1,2,3,4,5,6,7,8,9,0]\n",
        "for i in lista [:: - 1]:\n",
        "  print(i)"
      ],
      "execution_count": 12,
      "outputs": [
        {
          "output_type": "stream",
          "text": [
            "0\n",
            "9\n",
            "8\n",
            "7\n",
            "6\n",
            "5\n",
            "4\n",
            "3\n",
            "2\n",
            "1\n"
          ],
          "name": "stdout"
        }
      ]
    },
    {
      "cell_type": "code",
      "metadata": {
        "colab": {
          "base_uri": "https://localhost:8080/"
        },
        "id": "KX-gmwiO02Jo",
        "outputId": "608e1be9-afe3-40b1-d8cd-cd116ca77dae"
      },
      "source": [
        "lista = [1,2,3,4,5,6,7,8,9,0]\n",
        "for i in lista [:: 2]:\n",
        "  print(i)\n",
        "print(\"--------\")\n",
        "a = \"computador\"\n",
        "for i in a [:: 4]:\n",
        "  print(i)"
      ],
      "execution_count": 10,
      "outputs": [
        {
          "output_type": "stream",
          "text": [
            "1\n",
            "3\n",
            "5\n",
            "7\n",
            "9\n",
            "--------\n",
            "c\n",
            "u\n",
            "o\n"
          ],
          "name": "stdout"
        }
      ]
    },
    {
      "cell_type": "code",
      "metadata": {
        "colab": {
          "base_uri": "https://localhost:8080/"
        },
        "id": "O2y_UOmm13IB",
        "outputId": "4aca365f-067e-4a8c-b53e-6f06e1985a0a"
      },
      "source": [
        "#usando rangos\n",
        "for i in range(20):\n",
        "  print(i)\n",
        "\n",
        "#el range( ) genera una secuencia de numeros desde 0 por defecto hasta el numero que se pasa como parametro menos 2\n",
        "\n",
        "#estructura range(inicio, fin, salto)\n",
        "#observemos un un truco con el range:\n",
        "\n",
        "print(list(range(2,10,2))) #conversion de un rango en una lista"
      ],
      "execution_count": 16,
      "outputs": [
        {
          "output_type": "stream",
          "text": [
            "0\n",
            "1\n",
            "2\n",
            "3\n",
            "4\n",
            "5\n",
            "6\n",
            "7\n",
            "8\n",
            "9\n",
            "10\n",
            "11\n",
            "12\n",
            "13\n",
            "14\n",
            "15\n",
            "16\n",
            "17\n",
            "18\n",
            "19\n",
            "[2, 4, 6, 8]\n"
          ],
          "name": "stdout"
        }
      ]
    },
    {
      "cell_type": "markdown",
      "metadata": {
        "id": "vuINjrhi3je_"
      },
      "source": [
        "**listas de comprension**\n",
        "\n",
        "---\n",
        "Estas nos permiten crear listas de de elemento con una sola linea de codigo \n",
        "\n",
        "un ejemplo: crear una lista de las  potencias a la 3 de los numeros impares de 0 a 9\n",
        "\n",
        "\n"
      ]
    },
    {
      "cell_type": "code",
      "metadata": {
        "colab": {
          "base_uri": "https://localhost:8080/"
        },
        "id": "pTKUuQgK4PJq",
        "outputId": "36dfa83b-52d5-4669-ae4f-620b90b01ce0"
      },
      "source": [
        "tres = [i**3 for i in range(1,10,2)]\n",
        "#1,3,5,7,9\n",
        "print(tres)\n",
        "\n",
        "tres =[]\n",
        "for i in range(1,10,2):\n",
        "  tres.append(i**3)\n",
        "  print(i)"
      ],
      "execution_count": 22,
      "outputs": [
        {
          "output_type": "stream",
          "text": [
            "[1, 27, 125, 343, 729]\n",
            "1\n",
            "3\n",
            "5\n",
            "7\n",
            "9\n"
          ],
          "name": "stdout"
        }
      ]
    },
    {
      "cell_type": "code",
      "metadata": {
        "colab": {
          "base_uri": "https://localhost:8080/"
        },
        "id": "E2v4D9ZG6NUF",
        "outputId": "f7b29f03-d284-4bdb-9b66-da8dd92a2637"
      },
      "source": [
        "s  = [1 for i in range(10)]\n",
        "print(s)"
      ],
      "execution_count": 23,
      "outputs": [
        {
          "output_type": "stream",
          "text": [
            "[1, 1, 1, 1, 1, 1, 1, 1, 1, 1]\n"
          ],
          "name": "stdout"
        }
      ]
    },
    {
      "cell_type": "code",
      "metadata": {
        "colab": {
          "base_uri": "https://localhost:8080/"
        },
        "id": "FXolsXWo6jlU",
        "outputId": "bca7c17e-35f0-43ed-ec87-26d987ba8790"
      },
      "source": [
        "lwa1 = [5,10,15,20,25,30]\n",
        "lwa2 = [i/5 for i in lwa1]\n",
        "print(lwa2)\n"
      ],
      "execution_count": 24,
      "outputs": [
        {
          "output_type": "stream",
          "text": [
            "[1.0, 2.0, 3.0, 4.0, 5.0, 6.0]\n"
          ],
          "name": "stdout"
        }
      ]
    },
    {
      "cell_type": "code",
      "metadata": {
        "colab": {
          "base_uri": "https://localhost:8080/"
        },
        "id": "DeKvCVaA7HPz",
        "outputId": "86abd9fb-3c63-4cb5-cc37-cfecdd76c47b"
      },
      "source": [
        "pera = \"mamà ama a ema\"\n",
        "pera2 = [i for i in pera if i == \"a\" ]\n",
        "print(pera2)\n",
        "\n",
        "print(len(pera2))"
      ],
      "execution_count": 28,
      "outputs": [
        {
          "output_type": "stream",
          "text": [
            "['a', 'a', 'a', 'a', 'a']\n",
            "5\n"
          ],
          "name": "stdout"
        }
      ]
    }
  ]
}