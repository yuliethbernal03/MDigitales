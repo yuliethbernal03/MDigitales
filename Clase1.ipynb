{
  "nbformat": 4,
  "nbformat_minor": 0,
  "metadata": {
    "colab": {
      "name": "Clase1.ipynb",
      "provenance": [],
      "collapsed_sections": [],
      "include_colab_link": true
    },
    "kernelspec": {
      "name": "python3",
      "display_name": "Python 3"
    },
    "language_info": {
      "name": "python"
    }
  },
  "cells": [
    {
      "cell_type": "markdown",
      "metadata": {
        "id": "view-in-github",
        "colab_type": "text"
      },
      "source": [
        "<a href=\"https://colab.research.google.com/github/yuliethbernal03/MDigitales/blob/main/Clase1.ipynb\" target=\"_parent\"><img src=\"https://colab.research.google.com/assets/colab-badge.svg\" alt=\"Open In Colab\"/></a>"
      ]
    },
    {
      "cell_type": "code",
      "metadata": {
        "id": "hyO6-nCspMUK"
      },
      "source": [
        ""
      ],
      "execution_count": null,
      "outputs": []
    },
    {
      "cell_type": "markdown",
      "metadata": {
        "id": "wKfbAQx2pUi5"
      },
      "source": [
        "**Introducción**\n",
        "\n",
        "---\n",
        "\n",
        "**Tipos**\n",
        "1. Númericos.\n",
        "2. Secuencias.\n",
        "3. Mapeos.\n",
        "4. Conjuntos usados para agrupar otros valores.\n",
        "\n",
        "\n",
        " **Ejemplos**\n"
      ]
    },
    {
      "cell_type": "code",
      "metadata": {
        "colab": {
          "base_uri": "https://localhost:8080/"
        },
        "id": "3TtttUIBrFwD",
        "outputId": "e5336b64-0adc-45da-cb06-e60b4674b8b0"
      },
      "source": [
        "x=80\n",
        "print(x)"
      ],
      "execution_count": 2,
      "outputs": [
        {
          "output_type": "stream",
          "text": [
            "80\n"
          ],
          "name": "stdout"
        }
      ]
    },
    {
      "cell_type": "markdown",
      "metadata": {
        "id": "-TeCR_58rTwA"
      },
      "source": [
        "**Tipos de datos**\n",
        "\n",
        "---\n",
        "**Enteros**\n",
        "-Son los números que no tienen decimales.\n",
        "-Pueden ser positivos o negativos\n",
        "**Ejemplo**\n",
        "\n"
      ]
    },
    {
      "cell_type": "code",
      "metadata": {
        "colab": {
          "base_uri": "https://localhost:8080/"
        },
        "id": "NVaj4AgNrxxI",
        "outputId": "392e7ac8-3ef0-44ab-9b02-c8735c35abb0"
      },
      "source": [
        "a=int(3.98)\n",
        "print(a)"
      ],
      "execution_count": 3,
      "outputs": [
        {
          "output_type": "stream",
          "text": [
            "3\n"
          ],
          "name": "stdout"
        }
      ]
    },
    {
      "cell_type": "markdown",
      "metadata": {
        "id": "OTIFkvJpsfZi"
      },
      "source": [
        "**int** es par hacer alusión a números enteros.\n",
        "**float** variable numerica que admite parte decimal.\n",
        "\n",
        "\n"
      ]
    },
    {
      "cell_type": "code",
      "metadata": {
        "colab": {
          "base_uri": "https://localhost:8080/"
        },
        "id": "oHteTQf4sufv",
        "outputId": "86b533c2-1291-44ea-da5e-d05e4a9ead86"
      },
      "source": [
        "b=float(8.12)\n",
        "print(b)"
      ],
      "execution_count": 4,
      "outputs": [
        {
          "output_type": "stream",
          "text": [
            "8.12\n"
          ],
          "name": "stdout"
        }
      ]
    },
    {
      "cell_type": "markdown",
      "metadata": {
        "id": "FyaGzUjss5jq"
      },
      "source": [
        "**Tipo Cadena**\n",
        "\n",
        "---\n",
        "Las cadenas de texto son encerrados entre comillas ('simples' o \"dobles\"), y se pueden conformar de diferentes caracteres (Númericos, Albéticos, Especiales #%$/).\n",
        "Tener en cuenta, las cadenas admiten óperadores como la duma y la resta.\n"
      ]
    },
    {
      "cell_type": "code",
      "metadata": {
        "colab": {
          "base_uri": "https://localhost:8080/"
        },
        "id": "CELyYtFTtv5M",
        "outputId": "a4e50916-af8c-496d-d50f-415aa500bf4d"
      },
      "source": [
        "val1=\"Luis\"\n",
        "print(val1)\n",
        "\n",
        "val2=\"Hola mundo\"\n",
        "print(val2)"
      ],
      "execution_count": 1,
      "outputs": [
        {
          "output_type": "stream",
          "text": [
            "Luis\n",
            "Hola mundo\n"
          ],
          "name": "stdout"
        }
      ]
    },
    {
      "cell_type": "code",
      "metadata": {
        "colab": {
          "base_uri": "https://localhost:8080/"
        },
        "id": "KrblAd86uDil",
        "outputId": "c1c31488-dd9d-4d95-c57c-8b6715405d6d"
      },
      "source": [
        "n=\"Aprender\"\n",
        "z=\"Python\"\n",
        "nz=n+\" \"+z\n",
        "w=\"Aprender Python\"\n",
        "print(w)\n",
        "\n",
        "q=\"5\"\n",
        "p=\"2\"\n",
        "b=int(q)\n",
        "c=int(p)\n",
        "print(b-c)\n"
      ],
      "execution_count": null,
      "outputs": [
        {
          "output_type": "stream",
          "text": [
            "Aprender Python\n",
            "3\n"
          ],
          "name": "stdout"
        }
      ]
    },
    {
      "cell_type": "markdown",
      "metadata": {
        "id": "hIe4JNyTyKkd"
      },
      "source": [
        "**Tipo Booleano:**\n",
        "\n",
        "---\n",
        "Este tipo de variable solo tendra un valor Verdadero o Falso).\n",
        "**valores muy usados en condiciones y bucles.**"
      ]
    },
    {
      "cell_type": "code",
      "metadata": {
        "colab": {
          "base_uri": "https://localhost:8080/"
        },
        "id": "QzSmvAe8yc6d",
        "outputId": "ea81d3ec-79e9-4aea-8d16-92cfec4f8d1b"
      },
      "source": [
        "lola=False\n",
        "print(\"El valor es verdadero: \",lola,\", el cual es de tipo\", type(lola))"
      ],
      "execution_count": null,
      "outputs": [
        {
          "output_type": "stream",
          "text": [
            "El valor es verdadero:  False , el cual es de tipo <class 'bool'>\n"
          ],
          "name": "stdout"
        }
      ]
    },
    {
      "cell_type": "markdown",
      "metadata": {
        "id": "gXlTRXffw1Pv"
      },
      "source": [
        "Python cuenta con tipos de datos que admiten colecciones:\n",
        "1. listas.\n",
        "2. tuplas.\n",
        "3. Diccionarios.\n",
        "\n",
        "**Tipo de Conjuntos**\n",
        "Son una colección de datos sin elementos que se repiten:\n"
      ]
    },
    {
      "cell_type": "code",
      "metadata": {
        "colab": {
          "base_uri": "https://localhost:8080/"
        },
        "id": "H8tlCeje0F2Z",
        "outputId": "b0f88bb5-ea48-42ff-fda6-42ef42fecd83"
      },
      "source": [
        "fruit='pera','manzana','naranja'\n",
        "colors='morado','blanco','azul'\n",
        "print(fruit,colors)\n"
      ],
      "execution_count": null,
      "outputs": [
        {
          "output_type": "stream",
          "text": [
            "('pera', 'manzana', 'naranja') ('morado', 'blanco', 'azul')\n"
          ],
          "name": "stdout"
        }
      ]
    },
    {
      "cell_type": "markdown",
      "metadata": {
        "id": "_SHIi_do0jiU"
      },
      "source": [
        "**Tipo Listas**\n",
        "\n",
        "---\n",
        "Son listas las cuales almacenan vectores\n",
        "**Nota**\n",
        "Las listas siempre empiezan a nombrarsen dede el elemento (0), aparti de allí empieza el conteo\n",
        "Ejemplo:"
      ]
    },
    {
      "cell_type": "code",
      "metadata": {
        "colab": {
          "base_uri": "https://localhost:8080/"
        },
        "id": "O-5zjLoF05Cd",
        "outputId": "c4484ed2-b5e2-4e83-9585-e93862a42652"
      },
      "source": [
        "ines=['1','uva','lila','zorro','celular','micro','botella','tetero','10']\n",
        "print(ines)\n",
        "fe=ines[0:6]\n",
        "print(fe)"
      ],
      "execution_count": null,
      "outputs": [
        {
          "output_type": "stream",
          "text": [
            "['1', 'uva', 'lila', 'zorro', 'celular', 'micro', 'botella', 'tetero', '10']\n",
            "['1', 'uva', 'lila', 'zorro', 'celular', 'micro']\n"
          ],
          "name": "stdout"
        }
      ]
    },
    {
      "cell_type": "markdown",
      "metadata": {
        "id": "aJLRAYVE2w_L"
      },
      "source": [
        "**Tipo Tuplas**\n",
        "\n",
        "Tuplas anidadas: Agrupación(Tuplas),\n",
        "Es una lista que no se puede modificar despues de su creación:\n",
        "\n",
        "Ejemplo:"
      ]
    },
    {
      "cell_type": "code",
      "metadata": {
        "colab": {
          "base_uri": "https://localhost:8080/"
        },
        "id": "kYvunz5m4cNv",
        "outputId": "48bf7e95-d25d-4625-d5c4-d7b61301620e"
      },
      "source": [
        "tupla=23,28,'Hola'\n",
        "print(tupla)\n",
        "otra=tupla,(1,2,3,4)\n",
        "print(otra)"
      ],
      "execution_count": null,
      "outputs": [
        {
          "output_type": "stream",
          "text": [
            "(23, 28, 'Hola')\n",
            "((23, 28, 'Hola'), (1, 2, 3, 4))\n"
          ],
          "name": "stdout"
        }
      ]
    },
    {
      "cell_type": "markdown",
      "metadata": {
        "id": "6xc__wL06YTx"
      },
      "source": [
        "**Tipo Diccionarios**\n",
        "\n",
        "---\n",
        "Define los datos uno a uno entre un campo(ID- Identificador-Clave) y un valor:"
      ]
    },
    {
      "cell_type": "code",
      "metadata": {
        "colab": {
          "base_uri": "https://localhost:8080/"
        },
        "id": "8aC0XI2F6zCh",
        "outputId": "909830d2-b9f4-4155-b7ed-87003950647f"
      },
      "source": [
        "datos_b={\n",
        "    \"nombres\":\"Diana\",\n",
        "    \"apellidos\":\"Perea\",\n",
        "    \"cedula\":\"123456\",\n",
        "    \"est_civil\":\"soltera\",\n",
        "    \"lugar_nacimiento\":\"neiva\",\n",
        "    \"fecha_nacimiento\":\"12/05/2021\",\n",
        "}\n",
        "print(\"ID del diccionario\", datos_b.keys())\n",
        "print(\"ID del diccionario\", datos_b.values())\n",
        "print(\"ID del diccionario\", datos_b.items())\n",
        "print(\"Fecha de Nacimiento de Diana:\", datos_b['fecha_nacimiento'])\n",
        "\n"
      ],
      "execution_count": null,
      "outputs": [
        {
          "output_type": "stream",
          "text": [
            "ID del diccionario dict_keys(['nombres', 'apellidos', 'cedula', 'est_civil', 'lugar_nacimiento', 'fecha_nacimiento'])\n",
            "ID del diccionario dict_values(['Diana', 'Perea', '123456', 'soltera', 'neiva', '12/05/2021'])\n",
            "ID del diccionario dict_items([('nombres', 'Diana'), ('apellidos', 'Perea'), ('cedula', '123456'), ('est_civil', 'soltera'), ('lugar_nacimiento', 'neiva'), ('fecha_nacimiento', '12/05/2021')])\n",
            "Fecha de Nacimiento de Diana: 12/05/2021\n"
          ],
          "name": "stdout"
        }
      ]
    },
    {
      "cell_type": "markdown",
      "metadata": {
        "id": "NVlXQSzR8nNd"
      },
      "source": [
        "**Ejemplo práctico(Caracteristicas de los carros)**"
      ]
    },
    {
      "cell_type": "code",
      "metadata": {
        "colab": {
          "base_uri": "https://localhost:8080/"
        },
        "id": "wYBEvZom8xFJ",
        "outputId": "69d47009-d6c0-42db-fba0-6dbbc1c5dd60"
      },
      "source": [
        "carros_0={}\n",
        "carros_0['tamaño']='grande'\n",
        "carros_0['color']='negro'\n",
        "carros_0['marca']='Renault'\n",
        "carros_0['precio']='28'\n",
        "\n",
        "carros_1={}\n",
        "carros_1['tamaño']='pequeño'\n",
        "carros_1['color']='azul'\n",
        "carros_1['marca']='Toyota'\n",
        "carros_1['precio']='70'\n",
        "print(carros_0)\n",
        "print(carros_1)\n",
        "\n",
        "compra0=carros_0['precio']\n",
        "compra1=carros_1['precio']\n",
        "compratotal=compra0+compra1\n",
        "\n",
        "print(\"La compra total fue de:\"+str(compratotal))\n",
        "print(\"La compra toral fue de:\"+str(compratotal))\n",
        "\n",
        "\n"
      ],
      "execution_count": null,
      "outputs": [
        {
          "output_type": "stream",
          "text": [
            "{'tamaño': 'grande', 'color': 'negro', 'marca': 'Renault', 'precio': '28'}\n",
            "{'tamaño': 'pequeño', 'color': 'azul', 'marca': 'Toyota', 'precio': '70'}\n",
            "La compra total fue de:2870\n",
            "La compra toral fue de:2870\n"
          ],
          "name": "stdout"
        }
      ]
    },
    {
      "cell_type": "code",
      "metadata": {
        "id": "xFNjpbVi8vJq"
      },
      "source": [
        ""
      ],
      "execution_count": null,
      "outputs": []
    }
  ]
}