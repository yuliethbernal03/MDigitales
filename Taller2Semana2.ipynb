{
  "nbformat": 4,
  "nbformat_minor": 0,
  "metadata": {
    "colab": {
      "name": "Taller2Semana2.ipynb",
      "provenance": [],
      "authorship_tag": "ABX9TyNhHcajZee8460/03NZH8QT",
      "include_colab_link": true
    },
    "kernelspec": {
      "name": "python3",
      "display_name": "Python 3"
    },
    "language_info": {
      "name": "python"
    }
  },
  "cells": [
    {
      "cell_type": "markdown",
      "metadata": {
        "id": "view-in-github",
        "colab_type": "text"
      },
      "source": [
        "<a href=\"https://colab.research.google.com/github/yuliethbernal03/MDigitales/blob/main/Taller2Semana2.ipynb\" target=\"_parent\"><img src=\"https://colab.research.google.com/assets/colab-badge.svg\" alt=\"Open In Colab\"/></a>"
      ]
    },
    {
      "cell_type": "markdown",
      "metadata": {
        "id": "g7RktGz_Im_U"
      },
      "source": [
        "**Taller 2**\n",
        "\n",
        "---\n",
        "Se solicita realizar un programa que permita identificar el nivel de cumplimento de area de ventas de la empresa AVA.\n",
        "\n",
        "Entre los principales requerimientos se encuentran los siguientes:\n",
        "\n",
        "1. permita ingresar la cantidad de vendedores del area de ventas.\n",
        "2. permita ingresar la puntuacion por cada uno de ellos (escala de 1 a 10).\n",
        "3. El programa debe permitir identificar el vendedor con peor rendimiento y mejor rendimiento.\n",
        "4. obtener tambien el promedio general de cumplimento del area de ventas.\n",
        "\n",
        "**Nota:**\n",
        "\n",
        "Si hay empate en la puntuacion para definir el primer y ultimo puesto, se define por orden alfabetico."
      ]
    },
    {
      "cell_type": "code",
      "metadata": {
        "colab": {
          "base_uri": "https://localhost:8080/"
        },
        "id": "DLamhTkwIz2u",
        "outputId": "9ab25d30-16f9-400d-edf2-1e85cf849a72"
      },
      "source": [
        "\n",
        "cantVendedores = int(input(\"Ingrese el numero de vendedores del area de ventas: \"))\n",
        "def nc_vendedores():\n",
        "  vendedor=[]\n",
        "  \n",
        "  for x in range(cantVendedores):\n",
        "    nombre=input(\"Ingrese el nombre del vendedor: \")\n",
        "    puntuacion=int(input(\"Ingrese un numero de puntuacion de 1 al 10 para el vendedor : \"))\n",
        "    vendedor.append((nombre,puntuacion))\n",
        "  return sorted(vendedor)\n",
        "\n",
        "def mejor_rendimiento(vendedor):\n",
        "  y=0\n",
        "  for x in range(1,len(vendedor)):\n",
        "    if vendedor[x][1]>vendedor[y][1]:\n",
        "      y=x\n",
        "  print(\"El vendedor con el mejor rendimiento es:\", vendedor[y][0])\n",
        "\n",
        "def peor_rendimiento(vendedor):\n",
        "  i=0\n",
        "  for x in range(1,len(vendedor)):\n",
        "    if vendedor[x][1]<vendedor[i][1]:\n",
        "      i=x\n",
        "  print(\"El vendedor con el peor rendimiento es:\", vendedor[i][0])\n",
        "\n",
        "def vis(vendedor):\n",
        "  print(\"vendedores por puntuacion: \")\n",
        "  for x in range(len(vendedor)):\n",
        "    print(vendedor[x][0],vendedor[x][1])\n",
        "\n",
        "def promedio(vendedor):\n",
        "  promedio=0\n",
        "  pro=0\n",
        "  for x in range(1,len(vendedor)):\n",
        "    promedio= pro+int(vendedor[x][1])\n",
        "    pro=promedio/len(vendedor)\n",
        "  print(\"el promedio general es:\", pro)\n",
        "\n",
        "\n",
        "vendedor=nc_vendedores()\n",
        "vis(vendedor)\n",
        "mejor_rendimiento(vendedor)\n",
        "peor_rendimiento(vendedor)\n",
        "promedio(vendedor)\n",
        "\n",
        "\n"
      ],
      "execution_count": 82,
      "outputs": [
        {
          "output_type": "stream",
          "text": [
            "Ingrese el numero de vendedores del area de ventas: 4\n",
            "Ingrese el nombre del vendedor: a\n",
            "Ingrese un numero de puntuacion de 1 al 10 para el vendedor : 1\n",
            "Ingrese el nombre del vendedor: l\n",
            "Ingrese un numero de puntuacion de 1 al 10 para el vendedor : 2\n",
            "Ingrese el nombre del vendedor: b\n",
            "Ingrese un numero de puntuacion de 1 al 10 para el vendedor : 3\n",
            "Ingrese el nombre del vendedor: s\n",
            "Ingrese un numero de puntuacion de 1 al 10 para el vendedor : 4\n",
            "vendedor por puntuacion\n",
            "a 1\n",
            "b 3\n",
            "l 2\n",
            "s 4\n",
            "El vendedor con el mejor rendimiento es: s\n",
            "El vendedor con el peor rendimiento es: a\n",
            "el promedio general es: 1.171875\n"
          ],
          "name": "stdout"
        }
      ]
    }
  ]
}