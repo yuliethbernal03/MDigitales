{
  "nbformat": 4,
  "nbformat_minor": 0,
  "metadata": {
    "colab": {
      "name": "Taller2Semana2.ipynb",
      "provenance": [],
      "authorship_tag": "ABX9TyMzqdkxEYLdbc2/KELZ8Lzx",
      "include_colab_link": true
    },
    "kernelspec": {
      "name": "python3",
      "display_name": "Python 3"
    },
    "language_info": {
      "name": "python"
    }
  },
  "cells": [
    {
      "cell_type": "markdown",
      "metadata": {
        "id": "view-in-github",
        "colab_type": "text"
      },
      "source": [
        "<a href=\"https://colab.research.google.com/github/yuliethbernal03/MDigitales/blob/main/Taller2Semana2.ipynb\" target=\"_parent\"><img src=\"https://colab.research.google.com/assets/colab-badge.svg\" alt=\"Open In Colab\"/></a>"
      ]
    },
    {
      "cell_type": "markdown",
      "metadata": {
        "id": "g7RktGz_Im_U"
      },
      "source": [
        "**Taller 2**\n",
        "\n",
        "---\n",
        "Se solicita realizar un programa que permita identificar el nivel de cumplimento de area de ventas de la empresa AVA.\n",
        "\n",
        "Entre los principales requerimientos se encuentran los siguientes:\n",
        "\n",
        "1. permita ingresar la cantidad de vendedores del area de ventas.\n",
        "2. permita ingresar la puntuacion por cada uno de ellos (escala de 1 a 10).\n",
        "3. El programa debe permitir identificar el vendedor con peor rendimiento y mejor rendimiento.\n",
        "4. obtener tambien el promedio general de cumplimento del area de ventas.\n",
        "\n",
        "**Nota:**\n",
        "\n",
        "Si hay empate en la puntuacion para definir el primer y ultimo puesto, se define por orden alfabetico."
      ]
    },
    {
      "cell_type": "code",
      "metadata": {
        "id": "kHelcjVtLokA",
        "outputId": "7409965c-fdcf-4178-db5c-630b3b97a2ec",
        "colab": {
          "base_uri": "https://localhost:8080/"
        }
      },
      "source": [
        "print(\"\\n--------NIVELES DE CUMPLIMIENTO DEL AREA DE VENTAS DE LA EMPRESA AVA---------\\n\")\n",
        "print(\"\\n-----------------------------------------------------------------------------\\n\")\n",
        "cantVendedores = int(input(\"Ingrese el numero de vendedores del area de ventas: \"))\n",
        "def nc_vendedores():\n",
        "  vendedor=[]\n",
        "  \n",
        "  for x in range(cantVendedores):\n",
        "    nombre=input(\"Ingrese el nombre del vendedor: \")\n",
        "    puntuacion=int(input(\"Ingrese un numero de puntuacion de 1 al 10 para el vendedor : \"))\n",
        "    vendedor.append((nombre,puntuacion))\n",
        "  return sorted(vendedor)\n",
        "\n",
        "def mejor_rendimiento(vendedor):\n",
        "  y=0\n",
        "  for x in range(1,len(vendedor)):\n",
        "    if vendedor[x][1]>vendedor[y][1]:\n",
        "      y=x\n",
        "  print(\"\\n------------------------------------------------------------------------------\\n\")\n",
        "  print(\"\\n----------------------VENDEDOR  CON EL MEJOR RENDIMIENTO----------------------\\n\", vendedor[y][0])\n",
        "\n",
        "def peor_rendimiento(vendedor):\n",
        "  i=0\n",
        "  for x in range(1,len(vendedor)):\n",
        "    if vendedor[x][1]<vendedor[i][1]:\n",
        "      i=x\n",
        "  print(\"\\n------------------------------------------------------------------------------\\n\")\n",
        "  print(\"\\n-----------------------VENDEDOR CON EL PEOR RENDIMIENTO-----------------------\\n\", vendedor[i][0])\n",
        "\n",
        "def vis(vendedor):\n",
        "  print(\"\\n------------------------------------------------------------------------------\\n\")\n",
        "  print(\"------------------VENDEDORES ORGANIZADOS EN ORDEN ALFABETICO------------------\")\n",
        "  for x in range(len(vendedor)):\n",
        "    print(vendedor[x][0],vendedor[x][1])\n",
        "\n",
        "def promedio(vendedor):\n",
        "  prom=0\n",
        "  for i in range(len(vendedor)):\n",
        "    prom = prom + (vendedor[i][1]) /len(vendedor)\n",
        "  print(\"\\n------------------------------------------------------------------------------\\n\")\n",
        "  print(\"------------PROMEDIO GENERAL DEL CUMPLIMIENTO DEL AREA DE VENTAS----------------\\n\", round(prom,cantVendedores))\n",
        "\n",
        "vendedor=nc_vendedores()\n",
        "vis(vendedor)\n",
        "mejor_rendimiento(vendedor)\n",
        "peor_rendimiento(vendedor)\n",
        "promedio(vendedor)"
      ],
      "execution_count": 20,
      "outputs": [
        {
          "output_type": "stream",
          "text": [
            "\n",
            "--------NIVELES DE CUMPLIMIENTO DEL AREA DE VENTAS DE LA EMPRESA AVA---------\n",
            "\n",
            "\n",
            "-----------------------------------------------------------------------------\n",
            "\n",
            "Ingrese el numero de vendedores del area de ventas: 4\n",
            "Ingrese el nombre del vendedor: Pedro\n",
            "Ingrese un numero de puntuacion de 1 al 10 para el vendedor : 2\n",
            "Ingrese el nombre del vendedor: Luis\n",
            "Ingrese un numero de puntuacion de 1 al 10 para el vendedor : 4\n",
            "Ingrese el nombre del vendedor: Rosa\n",
            "Ingrese un numero de puntuacion de 1 al 10 para el vendedor : 1\n",
            "Ingrese el nombre del vendedor: Sara\n",
            "Ingrese un numero de puntuacion de 1 al 10 para el vendedor : 8\n",
            "\n",
            "------------------------------------------------------------------------------\n",
            "\n",
            "------------------VENDEDORES ORGANIZADOS EN ORDEN ALFABETICO------------------\n",
            "Luis 4\n",
            "Pedro 2\n",
            "Rosa 1\n",
            "Sara 8\n",
            "\n",
            "------------------------------------------------------------------------------\n",
            "\n",
            "\n",
            "----------------------VENDEDOR  CON EL MEJOR RENDIMIENTO----------------------\n",
            " Sara\n",
            "\n",
            "------------------------------------------------------------------------------\n",
            "\n",
            "\n",
            "-----------------------VENDEDOR CON EL PEOR RENDIMIENTO-----------------------\n",
            " Rosa\n",
            "\n",
            "------------------------------------------------------------------------------\n",
            "\n",
            "------------PROMEDIO GENERAL DEL CUMPLIMIENTO DEL AREA DE VENTAS----------------\n",
            " 3.75\n"
          ],
          "name": "stdout"
        }
      ]
    }
  ]
}