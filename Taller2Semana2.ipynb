{
  "nbformat": 4,
  "nbformat_minor": 0,
  "metadata": {
    "colab": {
      "name": "Taller2Semana2.ipynb",
      "provenance": [],
      "authorship_tag": "ABX9TyM1npglii58p8ww7qxFEvdG",
      "include_colab_link": true
    },
    "kernelspec": {
      "name": "python3",
      "display_name": "Python 3"
    },
    "language_info": {
      "name": "python"
    }
  },
  "cells": [
    {
      "cell_type": "markdown",
      "metadata": {
        "id": "view-in-github",
        "colab_type": "text"
      },
      "source": [
        "<a href=\"https://colab.research.google.com/github/yuliethbernal03/MDigitales/blob/main/Taller2Semana2.ipynb\" target=\"_parent\"><img src=\"https://colab.research.google.com/assets/colab-badge.svg\" alt=\"Open In Colab\"/></a>"
      ]
    },
    {
      "cell_type": "markdown",
      "metadata": {
        "id": "g7RktGz_Im_U"
      },
      "source": [
        "**Taller 2**\n",
        "\n",
        "---\n",
        "Se solicita realizar un programa que permita identificar el nivel de cumplimento de area de ventas de la empresa AVA.\n",
        "\n",
        "Entre los principales requerimientos se encuentran los siguientes:\n",
        "\n",
        "1. permita ingresar la cantidad de vendedores del area de ventas.\n",
        "2. permita ingresar la puntuacion por cada uno de ellos (escala de 1 a 10).\n",
        "3. El programa debe permitir identificar el vendedor con peor rendimiento y mejor rendimiento.\n",
        "4. obtener tambien el promedio general de cumplimento del area de ventas.\n",
        "\n",
        "**Nota:**\n",
        "\n",
        "Si hay empate en la puntuacion para definir el primer y ultimo puesto, se define por orden alfabetico."
      ]
    }
  ]
}