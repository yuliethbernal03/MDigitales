{
  "nbformat": 4,
  "nbformat_minor": 0,
  "metadata": {
    "colab": {
      "name": "Clase4.ipynb",
      "provenance": [],
      "authorship_tag": "ABX9TyMTTnsDBJ2I1Fx4+FkFOKic",
      "include_colab_link": true
    },
    "kernelspec": {
      "name": "python3",
      "display_name": "Python 3"
    },
    "language_info": {
      "name": "python"
    }
  },
  "cells": [
    {
      "cell_type": "markdown",
      "metadata": {
        "id": "view-in-github",
        "colab_type": "text"
      },
      "source": [
        "<a href=\"https://colab.research.google.com/github/yuliethbernal03/MDigitales/blob/main/Clase4.ipynb\" target=\"_parent\"><img src=\"https://colab.research.google.com/assets/colab-badge.svg\" alt=\"Open In Colab\"/></a>"
      ]
    },
    {
      "cell_type": "markdown",
      "metadata": {
        "id": "kLSlhMCTjgf7"
      },
      "source": [
        "**Continuacion de estructuras de control iterartivas**\n",
        "\n",
        "---\n",
        "**ACUMULADORES**\n",
        "\n",
        "se le da este nombre a las variables que se encargan de \"almacenar\" algun tipo de informacion.\n",
        "\n",
        "Ejemplo: \n",
        "\n",
        "El caso de la compra de viveres en la tienda.\n"
      ]
    },
    {
      "cell_type": "code",
      "metadata": {
        "colab": {
          "base_uri": "https://localhost:8080/"
        },
        "id": "N2aGsvc3j8Um",
        "outputId": "40abc399-4f26-4f12-e5f7-0d98114c2a69"
      },
      "source": [
        "nombre = input(\"Nombre del consumidor: \")\n",
        "listacomp = \"\"\n",
        "print(nombre, \"Escribe los siguientes viveres para su compra en el supermercado: \")\n",
        "listacomp = listacomp + \"Paca de pale higienico\"\n",
        "print(\"-----------compra que tengo que hacer-----------\")\n",
        "print(listacomp)\n",
        "listacomp = listacomp + \", ShampooPantene 2 en 1\"\n",
        "listacomp = listacomp + \", paca de pañales pequeñin estapa 2\"\n",
        "print(listacomp)"
      ],
      "execution_count": 4,
      "outputs": [
        {
          "output_type": "stream",
          "text": [
            "Nombre del consumidor: ty\n",
            "ty Escribe los siguientes viveres para su compra en el supermercado: \n",
            "-----------compra que tengo que hacer-----------\n",
            "Paca de pale higienico\n",
            "Paca de pale higienicoShampooPantene 2 en 1paca de pañales pequeñin estapa 2\n"
          ],
          "name": "stdout"
        }
      ]
    },
    {
      "cell_type": "markdown",
      "metadata": {
        "id": "YAtfIbmmlkYw"
      },
      "source": [
        "la variable \"listacomp\" nos esta sirviendo para acumular informacion de la lista de compra.\n",
        "\n",
        "Podemos observar, que NO estamos creando una variable por cada item, sino una variable definida nos sirve para almacenar la informacion.\n",
        "\n",
        "Acontinuacion ponemos un ejemplo donde se ponga en practica el uso de acumulacion de una variable usando cantidades y precios."
      ]
    },
    {
      "cell_type": "code",
      "metadata": {
        "colab": {
          "base_uri": "https://localhost:8080/"
        },
        "id": "ynPlm9BCl9ut",
        "outputId": "b898b81e-5403-47a1-a431-bf7f2b1b4a1c"
      },
      "source": [
        "ppph = 14000 #precio\n",
        "cpph = 2 #cantidad\n",
        "pshampoo = 18000\n",
        "cshampoo = 4\n",
        "pppañales = 17000\n",
        "cpañales = 3\n",
        "\n",
        "subtotal = 0\n",
        "print(\"Calculando el total de la compra...\")\n",
        "total_pph = ppph * cpph\n",
        "print(\"el valor total del papel higienico es: \", total_pph)\n",
        "subtotal = subtotal + total_pph\n",
        "print (\"--- el subtotal es: $\",subtotal)\n",
        "total_shampo = pshampoo * cshampoo\n",
        "print(\"el valor total del Shampo es: \", total_shampo)\n",
        "subtotal = subtotal + total_shampo\n",
        "print (\"--- el subtotal es: $\",subtotal)\n",
        "total_ppañales = pppañales * cpañales\n",
        "print(\"el valor total de las pacas de pañales es: \", total_ppañales)\n",
        "subtotal = subtotal + total_ppañales\n",
        "print (\"--- el subtotal es: $\",subtotal)\n",
        "\n",
        "print(\"El total de suc compra es: \",subtotal)"
      ],
      "execution_count": 7,
      "outputs": [
        {
          "output_type": "stream",
          "text": [
            "Calculando el total de la compra...\n",
            "el valor total del papel higienico es:  28000\n",
            "--- el subtotal es: $ 28000\n",
            "el valor total del Shampo es:  72000\n",
            "--- el subtotal es: $ 100000\n",
            "el valor total de las pacas de pañales es:  51000\n",
            "--- el subtotal es: $ 151000\n",
            "El total de suc compra es:  151000\n"
          ],
          "name": "stdout"
        }
      ]
    },
    {
      "cell_type": "markdown",
      "metadata": {
        "id": "0QoRjwADpAS9"
      },
      "source": [
        "**Contadores**\n",
        "\n",
        "---\n",
        "Tienen ucha relacion con los acumuladores visto en el apartado anterior, estas variables se caracterizan por ser variables de control, es decir controlan la **cantidad **de veces que se ejecuta determinada accion.\n",
        "\n",
        "usando el ejemplo anteripor y modificandola un poco, podemos desarrollar el siguiente algoritmo.\n"
      ]
    },
    {
      "cell_type": "code",
      "metadata": {
        "colab": {
          "base_uri": "https://localhost:8080/"
        },
        "id": "okLei3JWprWa",
        "outputId": "61acbf6f-bc5c-4829-f598-c7a34a9ab707"
      },
      "source": [
        "#se comprara pañales por unidad\n",
        "\n",
        "contp = 0\n",
        "print(\"Se realizara la compra de pañales etapa 3. se ha iniciado la compra de asignacion en el carrito. En total hay: \", contp ,\" pañales\")\n",
        "contp = contp + 1\n",
        "print(\"Se realizara la compra de pañales etapa 3. se ha iniciado la compra de asignacion en el carrito. Ahora hay: \",contp,\" pañales\")\n",
        "contp = contp + 1\n",
        "print(\"Ahora hay: \",contp,\" pañales\")\n",
        "contp = contp + 1\n",
        "print(\"Ahora hay: \",contp,\" pañales\")\n",
        "contp = contp + 1\n",
        "print(\"Ahora hay: \",contp,\" pañales\")\n",
        "contp = contp + 1\n",
        "print(\"Ahora hay: \",contp,\" pañales\")"
      ],
      "execution_count": 13,
      "outputs": [
        {
          "output_type": "stream",
          "text": [
            "Se realizara la compra de pañales etapa 3. se ha iniciado la compra de asignacion en el carrito. En total hay:  0  pañales\n",
            "Se realizara la compra de pañales etapa 3. se ha iniciado la compra de asignacion en el carrito. Ahora hay:  1  pañales\n",
            "Ahora hay:  2  pañales\n",
            "Ahora hay:  3  pañales\n",
            "Ahora hay:  4  pañales\n",
            "Ahora hay:  5  pañales\n"
          ],
          "name": "stdout"
        }
      ]
    },
    {
      "cell_type": "markdown",
      "metadata": {
        "id": "p5xst4ByrNr3"
      },
      "source": [
        "**CICLOS CONTROLADOS POR CONDICIONES**\n",
        "\n",
        "*WHILE*\n",
        "\n",
        "---\n",
        "Recordemos que las variables del control, nos permite manejar estados, pasar de un estado a otro es por Ejemplo: Una variable que no contiene elementos a contenerlo o una variableun elemento a particular(acumulando o contando) y cambiarlo por completo (Bandera).\n",
        "\n",
        "esta variable de control son la base dekl ciclo control. Siendo mas claros, pasar de un adiccion manual a algo mas automatizado.\n",
        "\n",
        "Empezamos con el ciclo \"WHILE\" en español es \"MIENTRAS\". este ciclo se compone de una condicion y su bloque de codigo. lo que nos quiere decir WHILE es que el bloque de codigo se ejecutara mientras la condicion de como resultado True o False.\n"
      ]
    },
    {
      "cell_type": "code",
      "metadata": {
        "colab": {
          "base_uri": "https://localhost:8080/"
        },
        "id": "bd4eWrSBsduR",
        "outputId": "84ed26be-6101-46a0-8ad1-aaceca58dc98"
      },
      "source": [
        "lapiz = 5\n",
        "contlapiz = 0\n",
        "print(\"Se ha iniciado la compra. En total hay: \",contlapiz, lapiz)\n",
        "\n",
        "while (contlapiz < lapiz):\n",
        "  contlapiz = contlapiz + 1\n",
        "  print(\"Se ha realizado de lapices. Ahora hay: \",contlapiz, \"lapiz\")"
      ],
      "execution_count": 15,
      "outputs": [
        {
          "output_type": "stream",
          "text": [
            "Se ha iniciado la compra. En total hay:  0 5\n",
            "Se ha realizado de lapices. Ahora hay:  1 lapiz\n",
            "Se ha realizado de lapices. Ahora hay:  2 lapiz\n",
            "Se ha realizado de lapices. Ahora hay:  3 lapiz\n",
            "Se ha realizado de lapices. Ahora hay:  4 lapiz\n",
            "Se ha realizado de lapices. Ahora hay:  5 lapiz\n"
          ],
          "name": "stdout"
        }
      ]
    },
    {
      "cell_type": "markdown",
      "metadata": {
        "id": "7R50NmgPvMAu"
      },
      "source": [
        "Tener en cuenta que dentro del ciclo de while se va afectando las variables implicadas en la declaracion de la condicion se debe cumpliur el ciclo. En el ejemplo anterior la variable contlapiz para que en algun momento la condicion sea verdadera y terminel ciclo, se tiene que cumplir la condicion (contlapiz < lapiz).\n",
        "De lo contrario tendriamos un ciclo que nunca se detendria.\n",
        "\n",
        "lo cual decantaria en un ciclo interminable."
      ]
    },
    {
      "cell_type": "markdown",
      "metadata": {
        "id": "hOwAb3tawLsL"
      },
      "source": [
        "**CICLO FOR**\n",
        "\n",
        "---\n",
        "Es un ciclo utilizado y optimizado para los ciclos controlados poir cantidad. se compone de 3 elemtos:\n",
        "1. La variable de iteraccion.\n",
        "2. Elemento de iteracion.\n",
        "3. Bloque de codigo a iterar\n",
        "\n",
        "**¿ventajas de usar for?**\n",
        "\n",
        "En python es muy importante y se considera una herramienta bastante flexible y poderosa, por permitir ingresar estructuras de datos complejos, cadena de caracteres, rangos, entre otros. Los elemtos de iteracion usados en esta estructura de datos son necesarios que tengan las siguientes caracteristicas:\n",
        "1. cantidad definida (Esto lo diferencia totalmente del while)\n",
        "el while parte de una condicion de verdad, pero el **FOR** parte de una cantidad definida.\n"
      ]
    },
    {
      "cell_type": "code",
      "metadata": {
        "colab": {
          "base_uri": "https://localhost:8080/"
        },
        "id": "AUULrOF8xZKN",
        "outputId": "8a7e2691-d21f-4881-bc75-1af1c87b1ea8"
      },
      "source": [
        "print(\"Se ha iniciado la compara. En total hay: 0 lapiz\")\n",
        "for i in range(1,6): #en los range se maneja un intervalo abierto a la derecha y cerrado a la izquierda\n",
        "  print(\"Sehe ha realizado la compra de lapices. Ahora hay: \",i,\" lapices\")"
      ],
      "execution_count": 18,
      "outputs": [
        {
          "output_type": "stream",
          "text": [
            "Se ha iniciado la compara. En total hay: 0 lapiz\n",
            "Sehe ha realizado la compra de lapices. Ahora hay:  1  lapices\n",
            "Sehe ha realizado la compra de lapices. Ahora hay:  2  lapices\n",
            "Sehe ha realizado la compra de lapices. Ahora hay:  3  lapices\n",
            "Sehe ha realizado la compra de lapices. Ahora hay:  4  lapices\n",
            "Sehe ha realizado la compra de lapices. Ahora hay:  5  lapices\n"
          ],
          "name": "stdout"
        }
      ]
    }
  ]
}